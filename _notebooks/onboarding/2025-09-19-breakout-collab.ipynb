{
 "cells": [
  {
   "cell_type": "raw",
   "id": "376feaee",
   "metadata": {
    "vscode": {
     "languageId": "raw"
    }
   },
   "source": [
    "---\n",
    "title: Breakout with OOP - Lesson\n",
    "comments: false\n",
    "layout: post\n",
    "permalink: /onboarding/breakout-lesson\n",
    "author: West Stefany, Shay Mortensen\n",
    "---"
   ]
  },
  {
   "cell_type": "markdown",
   "id": "4407d54e",
   "metadata": {},
   "source": [
    "# Collaboration Excersise: Breakout Feature Changes\n",
    "\n",
    "This notebook will explain the modifications we made to \"Functional Breakout\". "
   ]
  },
  {
   "cell_type": "markdown",
   "id": "718ae4ca",
   "metadata": {},
   "source": [
    "# Color Changes\n",
    "\n",
    "The game keeps track of colors using variables. Since these can be easily changed, we deciced to modify some color values:"
   ]
  },
  {
   "cell_type": "code",
   "execution_count": null,
   "id": "3a242f1b",
   "metadata": {
    "vscode": {
     "languageId": "javascript"
    }
   },
   "outputs": [],
   "source": [
    "%%js\n",
    "\n",
    "// Drawing functions\n",
    "  function drawBall() {\n",
    "    ctx.beginPath();\n",
    "    ctx.arc(x, y, ballRadius, 0, Math.PI * 2);\n",
    "    ctx.fillStyle = \"rgba(0, 255, 0, 1)\"; //Color value here\n",
    "    ctx.fill();\n",
    "    ctx.closePath();\n",
    "  }\n",
    "\n",
    "  function drawPaddle() {\n",
    "    ctx.beginPath();\n",
    "    ctx.rect(paddleX, canvas.height - paddleHeight, paddleWidth, paddleHeight);\n",
    "    ctx.fillStyle = \"rgb(0, 127, 0)\"; // And another color value here!\n",
    "    ctx.fill();\n",
    "    ctx.closePath();\n",
    "  }"
   ]
  },
  {
   "cell_type": "markdown",
   "id": "d0b6a13c",
   "metadata": {},
   "source": [
    "Here, we simply changed the color values in the \"ctx.fillStyle\" lines.\n",
    "\n",
    "# Ball Speed\n",
    "Along with out aesthetic changes, we also made some changes to the game mechanics. One of these changes was increasing the ball's speed every time the ball collides with a block. This adds some extra difficulty to the game. Here's how we did it:"
   ]
  },
  {
   "cell_type": "code",
   "execution_count": null,
   "id": "eb4367c8",
   "metadata": {
    "vscode": {
     "languageId": "javascript"
    }
   },
   "outputs": [],
   "source": [
    "%%js\n",
    "\n",
    "function collisionDetection() {\n",
    "    for (let c = 0; c < brickColumnCount; c++) {\n",
    "      for (let r = 0; r < brickRowCount; r++) {\n",
    "        let b = bricks[c][r];\n",
    "        if (b.status === 1) {\n",
    "          if (\n",
    "            x > b.x &&\n",
    "            x < b.x + brickWidth &&\n",
    "            y > b.y &&\n",
    "            y < b.y + brickHeight\n",
    "          ) {\n",
    "            //this is the part we are focusing on //\n",
    "            dy = Math.sign(dx)*-0.1 - dy         //\n",
    "            dx = Math.sign(dx)*0.1 + dx         //\n",
    "            b.status = 0;////////////////////////\n",
    "\n",
    "            score++;\n",
    "\n",
    "            if (b.powerUp) {\n",
    "              powerUps.push({ x: b.x + brickWidth / 2, y: b.y, active: true });\n",
    "              poweredUp = true\n",
    "            }\n",
    "          }\n",
    "        }\n",
    "      }\n",
    "    }\n",
    "  }"
   ]
  },
  {
   "cell_type": "markdown",
   "id": "188aa09b",
   "metadata": {},
   "source": [
    "The \"*0.1\" and \"*-0.1\" is the key here. These slightly increase the speed every single time a collision between a block occurs."
   ]
  },
  {
   "cell_type": "markdown",
   "id": "6a4e990f",
   "metadata": {},
   "source": [
    "# Changing number of lives and power-up duration\n",
    "\n",
    "Another thing we decided to change was the number of lives and duration of the built-in powerups. This involved some more simple variable changes:"
   ]
  },
  {
   "cell_type": "code",
   "execution_count": null,
   "id": "57cf4440",
   "metadata": {
    "vscode": {
     "languageId": "javascript"
    }
   },
   "outputs": [],
   "source": [
    "%%js\n",
    "// Game loop implementation not shown\n",
    "\n",
    "x += dx * (activePowerUp == null? 1:2);\n",
    "y += dy * (activePowerUp == null? 1:2);"
   ]
  },
  {
   "cell_type": "markdown",
   "id": "2f681e35",
   "metadata": {},
   "source": [
    "This is an interesting piece of code, as it demonstrates a unique feature of Javascript called a ternary operator. The ternary operator is inside of the parentheses, and has three parts (hence the name ternary). The first part is the condition, which simplifies to being either true or false. The \"?\" tells the interpreter that this is a ternary operator condition. The second value is the value to choose if the condition is true, and the third value after the \":\" is the value chosen if the condition is false. What this code does is check if there is no powerup active, and if that is true then the speed is multiplied by one. Otherwise, it is multiplied by two."
   ]
  }
 ],
 "metadata": {
  "language_info": {
   "name": "python"
  }
 },
 "nbformat": 4,
 "nbformat_minor": 5
}
