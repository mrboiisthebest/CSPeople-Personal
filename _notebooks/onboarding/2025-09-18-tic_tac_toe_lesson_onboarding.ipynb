{
 "cells": [
  {
   "cell_type": "raw",
   "id": "469bc245",
   "metadata": {
    "vscode": {
     "languageId": "raw"
    }
   },
   "source": [
    "---\n",
    "title: Python Tic Tac Toe Lesson\n",
    "comments: false\n",
    "layout: post\n",
    "permalink: /onboarding/ttt-lesson\n",
    "author: Nicolas Diaz\n",
    "---"
   ]
  },
  {
   "cell_type": "markdown",
   "id": "920133b3",
   "metadata": {},
   "source": [
    "# Tic-Tac-Toe with Python"
   ]
  },
  {
   "cell_type": "markdown",
   "id": "f9a9548e",
   "metadata": {},
   "source": [
    "In this lesson, we will break down a simple Tic-Tac-Toe game implemented in Python. We will use **Object-Oriented Programming (OOP)** concepts such as classes, inheritance, and methods."
   ]
  },
  {
   "cell_type": "markdown",
   "id": "5ea35778",
   "metadata": {},
   "source": [
    "## 1. The Player Class"
   ]
  },
  {
   "cell_type": "code",
   "execution_count": null,
   "id": "c7786719",
   "metadata": {},
   "outputs": [],
   "source": [
    "class Player:\n",
    "    def __init__(self, name, symbol):\n",
    "        self.name = name\n",
    "        self.symbol = symbol\n"
   ]
  },
  {
   "cell_type": "markdown",
   "id": "99021375",
   "metadata": {},
   "source": [
    "- Each player has a **name** and a **symbol** (`X` or `O`).\n",
    "- The `__init__` method is called the **constructor**, and it initializes the object."
   ]
  },
  {
   "cell_type": "markdown",
   "id": "1c85c0fb",
   "metadata": {},
   "source": [
    "## 2. The EnhancedPlayer Class (Inheritance)"
   ]
  },
  {
   "cell_type": "code",
   "execution_count": null,
   "id": "4ee7999d",
   "metadata": {},
   "outputs": [],
   "source": [
    "class EnhancedPlayer(Player):\n",
    "    def __init__(self, name, symbol):\n",
    "        super().__init__(name, symbol)\n",
    "        self.wins = 0\n",
    "\n",
    "    def add_win(self):\n",
    "        self.wins += 1\n",
    "        print(f\"{self.name} now has {self.wins} wins!\")"
   ]
  },
  {
   "cell_type": "markdown",
   "id": "4c57ffad",
   "metadata": {},
   "source": [
    "- This class **inherits** from `Player` using `super()`.\n",
    "- We added a new attribute `wins` to track how many games a player has won."
   ]
  },
  {
   "cell_type": "markdown",
   "id": "1e6cf5ea",
   "metadata": {},
   "source": [
    "## 3. The Board Class"
   ]
  },
  {
   "cell_type": "code",
   "execution_count": null,
   "id": "27ecdf20",
   "metadata": {},
   "outputs": [],
   "source": [
    "class Board:\n",
    "    def __init__(self):\n",
    "        self.grid = [\" \"] * 9\n",
    "        self.move_count = 0\n",
    "\n",
    "    def display(self):\n",
    "        print(\"\\n\")\n",
    "        print(\" \" + self.grid[0] + \" | \" + self.grid[1] + \" | \" + self.grid[2])\n",
    "        print(\"---+---+---\")\n",
    "        print(\" \" + self.grid[3] + \" | \" + self.grid[4] + \" | \" + self.grid[5])\n",
    "        print(\"---+---+---\")\n",
    "        print(\" \" + self.grid[6] + \" | \" + self.grid[7] + \" | \" + self.grid[8])\n",
    "        print(\"\\n\")"
   ]
  },
  {
   "cell_type": "markdown",
   "id": "e7ca58de",
   "metadata": {},
   "source": [
    "- The board is represented by a list of 9 spaces.\n",
    "- The `display()` method prints the current board.\n",
    "- Other methods (not shown here yet) include resetting the board, checking if it’s full, and validating moves."
   ]
  },
  {
   "cell_type": "markdown",
   "id": "5ed25d46",
   "metadata": {},
   "source": [
    "## 4. The TicTacToe Class (Game Logic)"
   ]
  },
  {
   "cell_type": "code",
   "execution_count": null,
   "id": "546559ea",
   "metadata": {},
   "outputs": [],
   "source": [
    "class TicTacToe:\n",
    "    def __init__(self, player1, player2):\n",
    "        self.board = Board()\n",
    "        self.players = [player1, player2]\n",
    "        self.current_player = player1\n",
    "        self.game_over = False\n",
    "\n",
    "    def switch_player(self):\n",
    "        self.current_player = (\n",
    "            self.players[1] if self.current_player == self.players[0] else self.players[0]\n",
    "        )\n",
    "        print(f\"Now it's {self.current_player.name}'s turn!\")"
   ]
  },
  {
   "cell_type": "markdown",
   "id": "94048f08",
   "metadata": {},
   "source": [
    "- This class controls the game.\n",
    "- It keeps track of the board, players, whose turn it is, and whether the game has ended.\n",
    "- The `switch_player` method changes the turn."
   ]
  },
  {
   "cell_type": "markdown",
   "id": "61e2274f",
   "metadata": {},
   "source": [
    "## 5. Running the Game"
   ]
  },
  {
   "cell_type": "code",
   "execution_count": null,
   "id": "c845a8e7",
   "metadata": {},
   "outputs": [],
   "source": [
    "print(\"=== Welcome to Tic-Tac-Toe ===\")\n",
    "p1_name = input(\"Enter name for Player 1: \")\n",
    "p2_name = input(\"Enter name for Player 2: \")\n",
    "player1 = EnhancedPlayer(p1_name, \"X\")\n",
    "player2 = EnhancedPlayer(p2_name, \"O\")\n",
    "game = TicTacToe(player1, player2)\n",
    "game.play()"
   ]
  },
  {
   "cell_type": "markdown",
   "id": "697c418f",
   "metadata": {},
   "source": [
    "- At the end, we create two players and start the game.\n",
    "- The players take turns until someone wins or the game ends in a tie."
   ]
  },
  {
   "cell_type": "markdown",
   "id": "32b58954",
   "metadata": {
    "vscode": {
     "languageId": "raw"
    }
   },
   "source": [
    "# 6. Board Size"
   ]
  },
  {
   "cell_type": "code",
   "execution_count": null,
   "id": "9acdcdfd",
   "metadata": {},
   "outputs": [],
   "source": [
    "class Board:\n",
    "    def __init__(self, size=3):\n",
    "        self.size = size\n",
    "        self.grid = [\" \"] * (size * size)  # Creates the board cells\n",
    "        self.move_count = 0\n",
    "        self.move_history = []"
   ]
  },
  {
   "cell_type": "markdown",
   "id": "fcbdd042",
   "metadata": {},
   "source": [
    "- Initializes the board grid with the correct number of empty spaces based on the chosen size.\n",
    "- Sets up tracking variables like move_count and move_history for gameplay."
   ]
  },
  {
   "cell_type": "markdown",
   "id": "89818812",
   "metadata": {},
   "source": [
    "- Hack 1\n",
    "\n",
    "\n",
    "\n",
    "Try to change the board size "
   ]
  },
  {
   "cell_type": "markdown",
   "id": "f43c98a4",
   "metadata": {},
   "source": [
    "- Hack 2\n",
    "\n",
    "Chnage the amoount of maekings need in a row to win the round"
   ]
  }
 ],
 "metadata": {
  "language_info": {
   "name": "python"
  }
 },
 "nbformat": 4,
 "nbformat_minor": 5
}
