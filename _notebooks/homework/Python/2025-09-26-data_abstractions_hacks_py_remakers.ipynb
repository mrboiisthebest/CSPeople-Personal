{
 "cells": [
  {
   "cell_type": "raw",
   "id": "ca7c3f46",
   "metadata": {
    "vscode": {
     "languageId": "raw"
    }
   },
   "source": [
    "---\n",
    "layout: post\n",
    "title: 3.2 Data Abstractions Python Hack\n",
    "author: Jaynee Chauhan, Michelle Ji, Lucas Masterson\n",
    "description: Hack(s) for intro to data abstractions in Python.\n",
    "permalink: /csp/big-idea-3/data-abstractions/p4/hacks-py\n",
    "---"
   ]
  },
  {
   "cell_type": "markdown",
   "id": "14d2f5f9",
   "metadata": {},
   "source": [
    "## Python Lab: Simple DBs\n",
    "\n",
    "In this lab, you'll be working on a simple \"database\" system consisting of dictionaries. The idea here is to understand some basic CRUD actions and how you can use data abstractions (dictionaries in this case) to represent redundant, similar data under a unified structure.\n",
    "\n",
    "You'll have to do some research about some Python syntax for this!\n",
    "\n",
    "You can complete the Python lab by simply running your code and getting your outputs in the Jupyter notebook."
   ]
  },
  {
   "cell_type": "code",
   "execution_count": null,
   "id": "04367227",
   "metadata": {},
   "outputs": [
    {
     "name": "stdout",
     "output_type": "stream",
     "text": [
      "All records in the list:\n",
      "Index 0: {'name': 'Alice', 'age': 16, 'grade': 'A'}\n",
      "Index 1: {'name': 'Bob', 'age': 17, 'grade': 'B'}\n",
      "Index 2: {'name': 'Charlie', 'age': 16, 'grade': 'C'}\n"
     ]
    }
   ],
   "source": [
    "%%python\n",
    "# Our \"database\" is a list of dictionaries, each representing a record (e.g., a student)\n",
    "# Lists allow us to store multiple records in a single variable, making it easy to manage collections of data.\n",
    "db = [\n",
    "    {\"name\": \"Alice\", \"age\": 16, \"grade\": \"A\"},\n",
    "    {\"name\": \"Bob\", \"age\": 17, \"grade\": \"B\"},\n",
    "    {\"name\": \"Charlie\", \"age\": 16, \"grade\": \"C\"}\n",
    "]\n",
    "\n",
    "# Lists provide order and allow us to add, remove, or update records efficiently.\n",
    "# Each element in the list is a dictionary, which abstracts the details of each student.\n",
    "\n",
    "# Function to display all records\n",
    "def display_db(database):\n",
    "    print(\"All records in the list:\")\n",
    "    for i, record in enumerate(database):\n",
    "        # print fields explicitly (avoid printing raw dict with braces)\n",
    "        print(f\"Index {i}: name={record['name']}, age={record['age']}, grade={record['grade']}\")\n",
    "\n",
    "# Function to add a new record (simple: prompts for values)\n",
    "def add_record(database):\n",
    "    name = input(\"Name: \").strip()\n",
    "    if not name:\n",
    "        print(\"No name provided. Aborting add.\")\n",
    "        return False\n",
    "    try:\n",
    "        age = int(input(\"Age: \").strip())\n",
    "    except ValueError:\n",
    "        print(\"Invalid age. Aborting add.\")\n",
    "        return False\n",
    "    grade = input(\"Grade: \").strip()\n",
    "    database.append({\"name\": name, \"age\": age, \"grade\": grade})\n",
    "    # print without braces to avoid Liquid interpreting double-curly braces\n",
    "    print(f\"Added: name={name}, age={age}, grade={grade}\")\n",
    "    return True\n",
    "\n",
    "# Function to find a record by name (returns index or -1 and prints result)\n",
    "def find_record(database, search_name):\n",
    "    for i, record in enumerate(database):\n",
    "        if record.get('name') == search_name:\n",
    "            print(f\"Found at index {i}: name={record['name']}, age={record['age']}, grade={record['grade']}\")\n",
    "            return i\n",
    "    print(f\"Record not found: {search_name}\")\n",
    "    return -1\n",
    "\n",
    "# Function to update a record (prompts for new values, blank to keep)\n",
    "def update_record(database, search_name):\n",
    "    idx = find_record(database, search_name)\n",
    "    if idx == -1:\n",
    "        return False\n",
    "    record = database[idx]\n",
    "    new_name = input(f\"New name (blank to keep '{record['name']}'): \").strip()\n",
    "    new_age = input(f\"New age (blank to keep {record['age']}): \").strip()\n",
    "    new_grade = input(f\"New grade (blank to keep '{record['grade']}'): \").strip()\n",
    "\n",
    "    if new_name:\n",
    "        record['name'] = new_name\n",
    "    if new_age:\n",
    "        try:\n",
    "            record['age'] = int(new_age)\n",
    "        except ValueError:\n",
    "            print(\"Invalid age entered — keeping old age.\")\n",
    "    if new_grade:\n",
    "        record['grade'] = new_grade\n",
    "\n",
    "    print(f\"Updated: name={record['name']}, age={record['age']}, grade={record['grade']}\")\n",
    "    return True\n",
    "\n",
    "# Function to delete a record (simple)\n",
    "def delete_record(database, search_name):\n",
    "    idx = find_record(database, search_name)\n",
    "    if idx == -1:\n",
    "        return False\n",
    "    del database[idx]\n",
    "    print(f\"Deleted record for '{search_name}' at index {idx}\")\n",
    "    return True\n",
    "\n",
    "# Example usage: run display only, other calls left commented for interactive testing\n",
    "display_db(db)\n",
    "# add_record(db)\n",
    "# find_record(db, \"Alice\")\n",
    "# update_record(db, \"Bob\")\n",
    "# delete_record(db, \"Charlie\")\n"
   ]
  }
 ],
 "metadata": {
  "kernelspec": {
   "display_name": "venv",
   "language": "python",
   "name": "python3"
  },
  "language_info": {
   "codemirror_mode": {
    "name": "ipython",
    "version": 3
   },
   "file_extension": ".py",
   "mimetype": "text/x-python",
   "name": "python",
   "nbconvert_exporter": "python",
   "pygments_lexer": "ipython3",
   "version": "3.12.3"
  }
 },
 "nbformat": 4,
 "nbformat_minor": 5
}
