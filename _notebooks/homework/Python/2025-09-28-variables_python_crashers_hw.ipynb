{
 "cells": [
  {
   "cell_type": "raw",
   "id": "f8d46d8e",
   "metadata": {
    "vscode": {
     "languageId": "raw"
    }
   },
   "source": [
    "---\n",
    "layout: post\n",
    "title: \"3.1 Variables & Assignments hacks - Python\"\n",
    "categories: [Programming Fundamentals, Tutorial]\n",
    "tags: [python, variables, assignment, beginner]\n",
    "description: Apply your understanding of Variables & Assignments with these Python hacks\n",
    "permalink: /python/variables/crashers-hw\n",
    "author: Aditya Srivastava\n",
    "---"
   ]
  },
  {
   "cell_type": "markdown",
   "id": "e48e5dfd",
   "metadata": {},
   "source": [
    "# 🐷 Peppa Maze Variables & Assignments Hacks (Python)\n",
    "Welcome to the Peppa Maze hacks! These challenges will test your understanding of variables, assignments, and logic in Python. Read each task, then write or modify code to solve it."
   ]
  },
  {
   "cell_type": "markdown",
   "id": "7333747d",
   "metadata": {},
   "source": [
    "## Hack 1: Python - Variable Assignment, Naming, and Operators\n",
    "Create variables for Peppa's name, score, and level using good Python naming conventions. Assign initial values, then use operators to update score (add 10) and level (multiply by 2). Print all results."
   ]
  },
  {
   "cell_type": "code",
   "execution_count": 3,
   "id": "febf933f",
   "metadata": {},
   "outputs": [
    {
     "name": "stdout",
     "output_type": "stream",
     "text": [
      "Peppa 20 2\n"
     ]
    }
   ],
   "source": [
    "peppa_name = \"Peppa\"\n",
    "score = 10\n",
    "level = 1\n",
    "score = score + 10\n",
    "level = level * 2\n",
    "print(peppa_name, score, level)\n"
   ]
  },
  {
   "cell_type": "markdown",
   "id": "a3133f05",
   "metadata": {},
   "source": [
    "## Hack 2: Python - Variable Declaration, Assignment, and Operators\n",
    "Declare variables for Peppa and George's scores using good Python naming conventions. Assign initial values, then use operators to update both scores (e.g., Peppa gets 15 points, George loses 5 points). Print both scores."
   ]
  },
  {
   "cell_type": "code",
   "execution_count": 2,
   "id": "d8501a2d",
   "metadata": {},
   "outputs": [
    {
     "name": "stdout",
     "output_type": "stream",
     "text": [
      "20 5\n"
     ]
    }
   ],
   "source": [
    "peppa_score = 5\n",
    "george_score = 10\n",
    "peppa_score = peppa_score + 15\n",
    "george_score = george_score - 5\n",
    "print(peppa_score, george_score)\n"
   ]
  },
  {
   "cell_type": "markdown",
   "id": "f248c523",
   "metadata": {},
   "source": [
    "## Hack 3: Python - Multiple Assignment and Math Operators\n",
    "Peppa and George both start at level 1. Use Python's multiple assignment feature to assign both their levels to 5 in one line. Then, calculate a combined score by multiplying their levels together and multiplying by 10. Print all results."
   ]
  },
  {
   "cell_type": "code",
   "execution_count": 1,
   "id": "bfd55c97",
   "metadata": {},
   "outputs": [
    {
     "name": "stdout",
     "output_type": "stream",
     "text": [
      "5 5 250\n"
     ]
    }
   ],
   "source": [
    "peppa_level = george_level = 5\n",
    "combined_score = peppa_level * george_level * 10\n",
    "print(peppa_level, george_level, combined_score)\n"
   ]
  }
 ],
 "metadata": {
  "kernelspec": {
   "display_name": "venv",
   "language": "python",
   "name": "python3"
  },
  "language_info": {
   "codemirror_mode": {
    "name": "ipython",
    "version": 3
   },
   "file_extension": ".py",
   "mimetype": "text/x-python",
   "name": "python",
   "nbconvert_exporter": "python",
   "pygments_lexer": "ipython3",
   "version": "3.12.3"
  }
 },
 "nbformat": 4,
 "nbformat_minor": 5
}
