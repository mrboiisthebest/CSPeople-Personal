{
 "cells": [
  {
   "cell_type": "raw",
   "id": "6290bcd2",
   "metadata": {
    "vscode": {
     "languageId": "raw"
    }
   },
   "source": [
    "---\n",
    "title: \"Mathematical Operations in Javascript and Python - Hacks\"\n",
    "description: \"Apply your skills of math, logic, and coding.\"\n",
    "layout: post\n",
    "permalink: /python/mathematical-expressions/codemaxxers-hw\n",
    "---"
   ]
  },
  {
   "cell_type": "markdown",
   "id": "d98b569e",
   "metadata": {},
   "source": [
    "# Basic Algebraic Math hacks\n",
    "\n",
    "## Q1 (Exponents):\n",
    "### A cube has a side length of 4 units. What is its volume?"
   ]
  },
  {
   "cell_type": "code",
   "execution_count": 1,
   "id": "235ceb13",
   "metadata": {},
   "outputs": [
    {
     "name": "stdout",
     "output_type": "stream",
     "text": [
      "64\n"
     ]
    }
   ],
   "source": [
    "%%python\n",
    "\n",
    "print(4 **3)"
   ]
  },
  {
   "cell_type": "markdown",
   "id": "3fb1dd4d",
   "metadata": {},
   "source": [
    "## Q2 (PEMDAS):\n",
    "### Evaluate the expression: \n",
    "\n",
    " (12+8)/2+(3^2)"
   ]
  },
  {
   "cell_type": "code",
   "execution_count": 2,
   "id": "49d712a3",
   "metadata": {},
   "outputs": [
    {
     "name": "stdout",
     "output_type": "stream",
     "text": [
      "11.0\n"
     ]
    }
   ],
   "source": [
    "print( (12+8)/2+(3^2))"
   ]
  },
  {
   "cell_type": "markdown",
   "id": "fcaa4762",
   "metadata": {},
   "source": [
    "## Q3 (Algorithm): \n",
    "\n",
    "Write Python  code where you define variables and run commands that find the values of operations you apply onto them"
   ]
  },
  {
   "cell_type": "code",
   "execution_count": null,
   "id": "0a2081a9",
   "metadata": {},
   "outputs": [],
   "source": [
    "%%python\n",
    "import threading\n",
    "import time\n",
    "\n",
    "class Computer:\n",
    "    def __init__(self, model):\n",
    "        self.Battery = 100\n",
    "        self.Active = False\n",
    "        self.Charging = False\n",
    "        self.Model = model\n",
    "        self.BatteryHealth = 96.0\n",
    "\n",
    "        # internals for tick thread\n",
    "        self._stop_event = threading.Event()\n",
    "        self._tick_thread = None\n",
    "        self._tick_interval = 1\n",
    "\n",
    "    def turn_on(self):\n",
    "        self.Active = True\n",
    "\n",
    "    def turn_off(self):\n",
    "        self.Active = False\n",
    "\n",
    "    def charge(self):\n",
    "        self.Charging = True\n",
    "\n",
    "    def unplug(self):\n",
    "        self.Charging = False\n",
    "\n",
    "    def _tick_loop(self):\n",
    "        while not self._stop_event.is_set():\n",
    "            if self.Active:\n",
    "                self.Battery = max(0, self.Battery - 1)\n",
    "                print(f\"Active:{self.Battery}\")\n",
    "\n",
    "            if self.Charging:\n",
    "                if self.Battery != 100:\n",
    "                    self.Battery = min(100, self.Battery + 1)\n",
    "                    print(f\"Charged:{self.Battery}\")\n",
    "\n",
    "            if self.Battery <= 20:\n",
    "                print(\"CHARGE YOUR COMPUTER!!!\")\n",
    "\n",
    "            if self.Battery >= 100 and self.Charging:\n",
    "                print(\"Computer is fully charged. Please Unplug!\")\n",
    "                if self.BatteryHealth > 0:\n",
    "                    self.BatteryHealth = max(0.0, self.BatteryHealth - 0.5)\n",
    "\n",
    "            time.sleep(self._tick_interval)\n",
    "\n",
    "    def start_tick(self, tick_sec=1):\n",
    "        \"\"\"Start a background thread that runs Tick every tick_sec seconds.\"\"\"\n",
    "        if self._tick_thread and self._tick_thread.is_alive():\n",
    "            print(\"Tick already running\")\n",
    "            return\n",
    "        self._stop_event.clear()\n",
    "        self._tick_interval = tick_sec\n",
    "        self._tick_thread = threading.Thread(target=self._tick_loop, daemon=True)\n",
    "        self._tick_thread.start()\n",
    "        print(f\"Started tick every {tick_sec} second(s)\")\n",
    "\n",
    "    def stop_tick(self):\n",
    "        \"\"\"Stop the background tick thread.\"\"\"\n",
    "        if self._tick_thread:\n",
    "            self._stop_event.set()\n",
    "            self._tick_thread.join(timeout=1)\n",
    "            self._tick_thread = None\n",
    "            print(\"Tick stopped\")\n",
    "\n",
    "\n",
    "# Demo: create and run the computer similar to the JS example\n",
    "MyComputer = Computer(\"Dell Laptop\")\n",
    "MyComputer.turn_on()\n",
    "MyComputer.start_tick(1)  # runs Tick every 1 second\n",
    "\n",
    "# Example: start charging after 7 seconds (like setTimeout)\n",
    "threading.Timer(7, MyComputer.charge).start()\n",
    "\n",
    "# Stop the tick after 20 seconds (so the notebook doesn't run forever)\n",
    "threading.Timer(20, MyComputer.stop_tick).start()"
   ]
  },
  {
   "cell_type": "markdown",
   "id": "40a2f9a8",
   "metadata": {},
   "source": [
    "<img src=\"/images/3_3diagram.png\" alt=\"Diagram showing mathematical operations\" style=\"max-width:300px; margin:10px;\">\n"
   ]
  }
 ],
 "metadata": {
  "kernelspec": {
   "display_name": "venv",
   "language": "python",
   "name": "python3"
  },
  "language_info": {
   "codemirror_mode": {
    "name": "ipython",
    "version": 3
   },
   "file_extension": ".py",
   "mimetype": "text/x-python",
   "name": "python",
   "nbconvert_exporter": "python",
   "pygments_lexer": "ipython3",
   "version": "3.12.3"
  }
 },
 "nbformat": 4,
 "nbformat_minor": 5
}
