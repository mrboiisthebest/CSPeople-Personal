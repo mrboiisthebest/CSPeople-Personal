{
 "cells": [
  {
   "cell_type": "raw",
   "id": "6676fbba",
   "metadata": {
    "vscode": {
     "languageId": "raw"
    }
   },
   "source": [
    "---\n",
    "layout: post\n",
    "title: Lists Hacks Python\n",
    "description: This is a CSP Hacks notebook based on the lists lesson\n",
    "comments: true\n",
    "permalink: /csp/big-idea-3/<lists>/<4>/python_hw\n",
    "---"
   ]
  },
  {
   "cell_type": "markdown",
   "id": "b52a2664",
   "metadata": {},
   "source": [
    "# Python Lists Homework"
   ]
  },
  {
   "cell_type": "markdown",
   "id": "b85e23b6",
   "metadata": {},
   "source": [
    "- After going through the lists lesson work on these hacks in your own repository"
   ]
  },
  {
   "cell_type": "markdown",
   "id": "0eef752c",
   "metadata": {},
   "source": [
    "### Hack 1 – Add Up Numbers\n",
    "\n",
    "Make a list of numbers. Write code to:\n",
    "1. Find the total sum.\n",
    "2. Find the average."
   ]
  },
  {
   "cell_type": "code",
   "execution_count": 2,
   "id": "9eb9fc42",
   "metadata": {},
   "outputs": [
    {
     "name": "stdout",
     "output_type": "stream",
     "text": [
      "44\n",
      "6.285714285714286\n"
     ]
    }
   ],
   "source": [
    "# Hack 1 – Add Up Numbers\n",
    "numbers = [4, 7, 1, 9, 6, 7, 10]\n",
    "\n",
    "# Write your code here:\n",
    "\n",
    "def add_array_numbers(arr):\n",
    "    sum1 = sum(arr)\n",
    "    average = sum1/len(arr)\n",
    "    print(sum1)\n",
    "    print(average)\n",
    "\n",
    "\n",
    "add_array_numbers(numbers)"
   ]
  },
  {
   "cell_type": "markdown",
   "id": "46f14089",
   "metadata": {},
   "source": [
    "### Hack 2 – Count Repeats\n",
    "\n",
    "Make a list with repeated items. Write code to count how many times each item appears."
   ]
  },
  {
   "cell_type": "code",
   "execution_count": 2,
   "id": "c8224c2e",
   "metadata": {},
   "outputs": [
    {
     "name": "stdout",
     "output_type": "stream",
     "text": [
      "cat: 2\n",
      "dog: 1\n",
      "bird: 3\n"
     ]
    },
    {
     "data": {
      "text/plain": [
       "Counter({'bird': 3, 'cat': 2, 'dog': 1})"
      ]
     },
     "execution_count": 2,
     "metadata": {},
     "output_type": "execute_result"
    }
   ],
   "source": [
    "# Hack 2 – Count Repeats\n",
    "items = [\"cat\", \"dog\", \"cat\", \"bird\", \"bird\", \"bird\"]\n",
    "\n",
    "# Write your code here:\n",
    "from collections import Counter\n",
    "\n",
    "def count_repeats(lst):\n",
    "    \"\"\"Return a Counter and print each item and its count.\"\"\"\n",
    "    counts = Counter(lst)\n",
    "    for item, cnt in counts.items():\n",
    "        print(f\"{item}: {cnt}\")\n",
    "    return counts\n",
    "\n",
    "# call the function to show output in the notebook\n",
    "count_repeats(items)\n"
   ]
  },
  {
   "cell_type": "markdown",
   "id": "714f85a7",
   "metadata": {},
   "source": [
    "### Hack 3 – Keep Only Evens\n",
    "\n",
    "Make a list of numbers. Write code to create a new list with only even numbers."
   ]
  },
  {
   "cell_type": "code",
   "execution_count": 1,
   "id": "a9e5c292",
   "metadata": {},
   "outputs": [
    {
     "name": "stdout",
     "output_type": "stream",
     "text": [
      "[8, 12, 66, 18]\n"
     ]
    },
    {
     "data": {
      "text/plain": [
       "[8, 12, 66, 18]"
      ]
     },
     "execution_count": 1,
     "metadata": {},
     "output_type": "execute_result"
    }
   ],
   "source": [
    "# Hack 3 – Keep Only Evens\n",
    "numbers = [3, 8, 5, 12, 7, 9, 13, 31, 66, 18]\n",
    "\n",
    "# Write your code here:\n",
    "def keep_evens(lst):\n",
    "    \"\"\"Return a list of even numbers and print it.\"\"\"\n",
    "    evens = [n for n in lst if n % 2 == 0]\n",
    "    print(evens)\n",
    "    return evens\n",
    "\n",
    "# call the function to show output in the notebook\n",
    "keep_evens(numbers)\n"
   ]
  }
 ],
 "metadata": {
  "kernelspec": {
   "display_name": "venv",
   "language": "python",
   "name": "python3"
  },
  "language_info": {
   "codemirror_mode": {
    "name": "ipython",
    "version": 3
   },
   "file_extension": ".py",
   "mimetype": "text/x-python",
   "name": "python",
   "nbconvert_exporter": "python",
   "pygments_lexer": "ipython3",
   "version": "3.12.3"
  }
 },
 "nbformat": 4,
 "nbformat_minor": 5
}
