{
 "cells": [
  {
   "cell_type": "raw",
   "id": "347e901f",
   "metadata": {
    "vscode": {
     "languageId": "raw"
    }
   },
   "source": [
    "---\n",
    "toc: true\n",
    "layout: post\n",
    "categories: [JavaScript]\n",
    "title: Remakers - 3.13 Developing Procedures JS Hacks\n",
    "description: \"Apply your skills to basic procedure development in Javascript.\"\n",
    "permalink: /javascript/developing-procedures/remakers-hw\n",
    "author: Krishna Visvanath, Sloane Sommers\n",
    "---"
   ]
  },
  {
   "cell_type": "markdown",
   "id": "38483feb",
   "metadata": {
    "vscode": {
     "languageId": "raw"
    }
   },
   "source": [
    "### Q1 (Easy)\n",
    "Which of these procedures is named wrong, provide a **short** explanation of justification"
   ]
  },
  {
   "cell_type": "code",
   "execution_count": null,
   "id": "690e6f19",
   "metadata": {
    "vscode": {
     "languageId": "javascript"
    }
   },
   "outputs": [],
   "source": [
    "%%js\n",
    "\n",
    "function mixIngredients()\n",
    "\n",
    "function doIt() // This One is not named correctly as the name is very vauge and does not explain what it does\n",
    "\n",
    "function makeLeftTurn()"
   ]
  },
  {
   "cell_type": "markdown",
   "id": "bff45a3e",
   "metadata": {},
   "source": [
    "**Explanation Here:**<br>\n",
    "2 is wrong because it is not named correctly as the name is very vauge and does not explain what it does"
   ]
  },
  {
   "cell_type": "markdown",
   "id": "e5480b09",
   "metadata": {},
   "source": [
    "### Q2 (Medium)\n",
    "Finish the code to have a correctly named procedure"
   ]
  },
  {
   "cell_type": "code",
   "execution_count": 2,
   "id": "4bc531e4",
   "metadata": {
    "vscode": {
     "languageId": "javascript"
    }
   },
   "outputs": [
    {
     "data": {
      "application/javascript": "function makeLeftTurn() {\n    moveForward() ;\n    rotate180() ;\n    moveForward() ;\n}\n//Todo: add corresponding procedure definitions\n//here- replace this line with your code {\n\nfunction moveForward(){\nconsole.log(\"Moving forward.\");\n}\n\n//here- replace this line with your code {\nfunction rotate180(){\nconsole.log(\"Turning left\");\n}\n\n//Run the procedure\nmakeLeftTurn()\n",
      "text/plain": [
       "<IPython.core.display.Javascript object>"
      ]
     },
     "metadata": {},
     "output_type": "display_data"
    }
   ],
   "source": [
    "%%js\n",
    "function makeLeftTurn() {\n",
    "    moveForward() ;\n",
    "    rotate180() ;\n",
    "    moveForward() ;\n",
    "}\n",
    "//Todo: add corresponding procedure definitions\n",
    "//here- replace this line with your code {\n",
    "\n",
    "function moveForward(){\n",
    "console.log(\"Moving forward.\");\n",
    "}\n",
    "\n",
    "//here- replace this line with your code {\n",
    "function rotate180(){\n",
    "console.log(\"Turning left\");\n",
    "}\n",
    "\n",
    "//Run the procedure\n",
    "makeLeftTurn()"
   ]
  },
  {
   "cell_type": "markdown",
   "id": "1477bcba",
   "metadata": {},
   "source": [
    "## Output <br>\n",
    "\n",
    "\n",
    "```\n",
    "Moving forward.\n",
    "VM95:30 Turning left\n",
    "VM95:25 Moving forward.\n",
    "```"
   ]
  },
  {
   "cell_type": "markdown",
   "id": "d6c06eb0",
   "metadata": {
    "vscode": {
     "languageId": "javascript"
    }
   },
   "source": [
    "### Q3 (Hard)\n",
    "Write code to fulfill the requirements\n",
    "Doing a dance! 🕺💃\n",
    "Must have\n",
    "1. A shimmy left procedure\n",
    "- Print `super cool left slide`\n",
    "2. A shimmy right procedure, print `even cooler right slide`\n",
    "3. Doing a bow to the crowd, print `Great dance!`, `the audience claps at your bow!`"
   ]
  },
  {
   "cell_type": "code",
   "execution_count": 3,
   "id": "818139d1",
   "metadata": {
    "vscode": {
     "languageId": "javascript"
    }
   },
   "outputs": [
    {
     "data": {
      "application/javascript": "\nfunction playSequenese(){\n    slideLeft()\n    slideRight()\n    BowToCrowd()\n}\n\nfunction slideLeft(){\n    console.log(\"super cool left slide\")\n}\n\nfunction slideRight(){\n    console.log(\"even cooler right slide\")\n}\n\nfunction BowToCrowd(){\n    console.log(\"Bows to crowd\")\n    console.log(\"the audience claps at your bow!\")\n}\n\nplaySequenese()\n",
      "text/plain": [
       "<IPython.core.display.Javascript object>"
      ]
     },
     "metadata": {},
     "output_type": "display_data"
    }
   ],
   "source": [
    "%%js\n",
    "\n",
    "function playSequenese(){\n",
    "    slideLeft()\n",
    "    slideRight()\n",
    "    BowToCrowd()\n",
    "}\n",
    "\n",
    "function slideLeft(){\n",
    "    console.log(\"super cool left slide\")\n",
    "}\n",
    "\n",
    "function slideRight(){\n",
    "    console.log(\"even cooler right slide\")\n",
    "}\n",
    "\n",
    "function BowToCrowd(){\n",
    "    console.log(\"Bows to crowd\")\n",
    "    console.log(\"the audience claps at your bow!\")\n",
    "}\n",
    "\n",
    "playSequenese()"
   ]
  },
  {
   "cell_type": "markdown",
   "id": "2210e698",
   "metadata": {},
   "source": [
    "## Output <br>\n",
    "\n",
    "```\n",
    "super cool left slide\n",
    "VM96:28 even cooler right slide\n",
    "VM96:32 Bows to crowd\n",
    "VM96:33 the audience claps at your bow!\n",
    "```"
   ]
  }
 ],
 "metadata": {
  "kernelspec": {
   "display_name": "venv",
   "language": "python",
   "name": "python3"
  },
  "language_info": {
   "codemirror_mode": {
    "name": "ipython",
    "version": 3
   },
   "file_extension": ".py",
   "mimetype": "text/x-python",
   "name": "python",
   "nbconvert_exporter": "python",
   "pygments_lexer": "ipython3",
   "version": "3.12.3"
  }
 },
 "nbformat": 4,
 "nbformat_minor": 5
}
