{
 "cells": [
  {
   "cell_type": "raw",
   "id": "cae8bc40",
   "metadata": {
    "vscode": {
     "languageId": "raw"
    }
   },
   "source": [
    "---\n",
    "layout: post\n",
    "title: Lists Hacks Javascript\n",
    "description: This is a CSP Hacks notebook based on the lists lesson\n",
    "comments: true\n",
    "permalink: /csp/big-idea-3/<lists>/<4>/javascript_hw\n",
    "---"
   ]
  },
  {
   "cell_type": "markdown",
   "id": "44bdd529",
   "metadata": {},
   "source": [
    "# Javascript Lists Homework"
   ]
  },
  {
   "cell_type": "markdown",
   "id": "6a975112",
   "metadata": {},
   "source": [
    "- After going through the lists lesson work on these hacks in your own repository"
   ]
  },
  {
   "cell_type": "markdown",
   "id": "4b1ccc5c",
   "metadata": {},
   "source": [
    "### Hack 1 – Add Up Numbers\n",
    "\n",
    "Make a list of numbers. Write code to:\n",
    "1. Find the total sum.\n",
    "2. Find the average."
   ]
  },
  {
   "cell_type": "code",
   "execution_count": 11,
   "id": "9fc29a1a",
   "metadata": {
    "vscode": {
     "languageId": "javascript"
    }
   },
   "outputs": [
    {
     "data": {
      "application/javascript": "// Hack 1 – Add Up Numbers\nlet numbers = [4, 7, 1, 9, 6, 7, 10];\n\n// Write your code here:\nfunction addUpArray(array){\n    let finalNumber = 0\n    for (let i =0; i < array.length;i++){\n        let v = array[i]\n\n        finalNumber += v\n    }\n    console.log(finalNumber)\n}\n\n\naddUpArray(numbers)\n",
      "text/plain": [
       "<IPython.core.display.Javascript object>"
      ]
     },
     "metadata": {},
     "output_type": "display_data"
    }
   ],
   "source": [
    "%%js\n",
    "// Hack 1 – Add Up Numbers\n",
    "let numbers = [4, 7, 1, 9, 6, 7, 10];\n",
    "\n",
    "// Write your code here:\n",
    "function addUpArray(array){\n",
    "    let finalNumber = 0\n",
    "    for (let i =0; i < array.length;i++){\n",
    "        let v = array[i]\n",
    "\n",
    "        finalNumber += v\n",
    "    }\n",
    "    console.log(finalNumber)\n",
    "}\n",
    "\n",
    "\n",
    "addUpArray(numbers)"
   ]
  },
  {
   "cell_type": "markdown",
   "id": "f045e947",
   "metadata": {},
   "source": [
    "## Output <br>\n",
    "```\n",
    "44\n",
    "```"
   ]
  },
  {
   "cell_type": "markdown",
   "id": "519b9811",
   "metadata": {},
   "source": [
    "### Hack 2 – Count Repeats\n",
    "\n",
    "Make a list with repeated items. Write code to count how many times each item appears."
   ]
  },
  {
   "cell_type": "code",
   "execution_count": null,
   "id": "b9e989ea",
   "metadata": {
    "vscode": {
     "languageId": "javascript"
    }
   },
   "outputs": [],
   "source": [
    "%%js\n",
    "// Hack 2 – Count Repeats\n",
    "let items = [\"cat\", \"dog\", \"cat\", \"bird\", \"bird\", \"bird\"];\n",
    "\n",
    "// Write your code here:\n",
    "\n",
    "function findRepeatsInArray(array){\n",
    "    let repeatArray = []\n",
    "    let processed = []\n",
    "\n",
    "    for(let i = 0; i < array.length; i ++){\n",
    "        let target = array[i]\n",
    "        let repeatCount = 0\n",
    "        if (processed.includes(target)) {\n",
    "            continue;\n",
    "        }\n",
    "\n",
    "        for (let ii = 0; ii < array.length; ii++){\n",
    "            let v = array[ii]\n",
    "            if (v === target){\n",
    "                repeatCount += 1\n",
    "            }\n",
    "        }\n",
    "        repeatArray.push([target, repeatCount])\n",
    "        processed.push(target)\n",
    "    }\n",
    "\n",
    "    console.log(repeatArray)\n",
    "}\n",
    "\n",
    "findRepeatsInArray(items)\n"
   ]
  },
  {
   "cell_type": "markdown",
   "id": "800ed729",
   "metadata": {},
   "source": [
    "### Hack 3 – Keep Only Evens\n",
    "\n",
    "Make a list of numbers. Write code to create a new list with only even numbers."
   ]
  },
  {
   "cell_type": "code",
   "execution_count": null,
   "id": "4f7fc860",
   "metadata": {
    "vscode": {
     "languageId": "javascript"
    }
   },
   "outputs": [],
   "source": [
    "%%js\n",
    "// Hack 3 – Keep Only Evens\n",
    "let numbers = [3, 8, 5, 12, 7, 9, 13, 31, 66, 18];\n",
    "\n",
    "// Write your code here:\n",
    "\n",
    "function keepEvens(array){\n",
    "    let EvenTable = []\n",
    "    for (let i = 0; i < array.length; i++){\n",
    "        let v = array[i]\n",
    "        if(v%2 == 0){\n",
    "            EvenTable.push(v)\n",
    "        }\n",
    "    }\n",
    "\n",
    "    console.log(EvenTable)\n",
    "}\n",
    "\n",
    "keepEvens(numbers)\n"
   ]
  }
 ],
 "metadata": {
  "kernelspec": {
   "display_name": "venv",
   "language": "python",
   "name": "python3"
  },
  "language_info": {
   "codemirror_mode": {
    "name": "ipython",
    "version": 3
   },
   "file_extension": ".py",
   "mimetype": "text/x-python",
   "name": "python",
   "nbconvert_exporter": "python",
   "pygments_lexer": "ipython3",
   "version": "3.12.3"
  }
 },
 "nbformat": 4,
 "nbformat_minor": 5
}
