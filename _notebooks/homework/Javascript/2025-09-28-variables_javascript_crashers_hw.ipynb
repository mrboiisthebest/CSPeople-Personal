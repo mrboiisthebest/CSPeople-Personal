{
 "cells": [
  {
   "cell_type": "raw",
   "id": "f7d70aa2",
   "metadata": {
    "vscode": {
     "languageId": "raw"
    }
   },
   "source": [
    "---\n",
    "layout: post\n",
    "title: \"3.1 Variables & Assignments hacks\"\n",
    "categories: [Programming Fundamentals, Tutorial]\n",
    "tags: [python, javascript, variables, assignment, beginner]\n",
    "description: Apply your understanding of Variables & Assignments with these hacks\n",
    "author: Aditya Srivastava, Laya Balaji\n",
    "permalink: /javascript/variables/crashers-hw\n",
    "---"
   ]
  },
  {
   "cell_type": "markdown",
   "id": "ce56910b",
   "metadata": {},
   "source": [
    "# 🐷 Peppa Maze Variables & Assignments Hacks\n",
    "Welcome to the Peppa Maze hacks! These challenges will test your understanding of variables, assignments, and logic in Javascript. Read each task, then write or modify code to solve it."
   ]
  },
  {
   "cell_type": "markdown",
   "id": "7dee3bb5",
   "metadata": {},
   "source": [
    "## Hack 1: JavaScript - Variable Assignment, Naming, and Operators\n",
    "Create variables for Peppa's name, score, and level using good JavaScript naming conventions. Assign initial values, then use operators to update score (add 10) and level (multiply by 2). Print all results."
   ]
  },
  {
   "cell_type": "code",
   "execution_count": 3,
   "id": "e4bee113",
   "metadata": {
    "vscode": {
     "languageId": "javascript"
    }
   },
   "outputs": [
    {
     "data": {
      "application/javascript": "// Write your code here\n// Create variables for Peppa's name, score, and level\n// Use operators to update score and level\n\nlet currentLevel = \"The Junkyard\"\nlet peppaName = \"Peppa\"\nlet score = 10\n\nscore * 2\ncurrentLevel = \"The Pit\"\npeppaName = \"Pep\"\n\n\nconsole.log(`Level:${currentLevel} Peppa Name:${peppaName} Score:${score}`)\n\n",
      "text/plain": [
       "<IPython.core.display.Javascript object>"
      ]
     },
     "metadata": {},
     "output_type": "display_data"
    }
   ],
   "source": [
    "%%js\n",
    "// Write your code here\n",
    "// Create variables for Peppa's name, score, and level\n",
    "// Use operators to update score and level\n",
    "\n",
    "let currentLevel = \"The Junkyard\"\n",
    "let peppaName = \"Peppa\"\n",
    "let score = 10\n",
    "\n",
    "score * 2\n",
    "currentLevel = \"The Pit\"\n",
    "peppaName = \"Pep\"\n",
    "\n",
    "\n",
    "console.log(`Level:${currentLevel} Peppa Name:${peppaName} Score:${score}`)\n",
    "\n"
   ]
  },
  {
   "cell_type": "markdown",
   "id": "3f8a5cbe",
   "metadata": {},
   "source": [
    "## Hack 2: JavaScript - Variable Declaration, Assignment, and Operators\n",
    "Declare variables for Peppa and George's scores using good JavaScript naming conventions. Assign initial values, then use operators to update both scores (e.g., Peppa gets 15 points, George loses 5 points). Print both scores."
   ]
  },
  {
   "cell_type": "code",
   "execution_count": null,
   "id": "c4c80df3",
   "metadata": {
    "vscode": {
     "languageId": "javascript"
    }
   },
   "outputs": [],
   "source": [
    "%%js\n",
    "// Write your code here\n",
    "// Declare variables for Peppa and George's scores\n",
    "// Use operators to update both scores\n",
    "\n",
    "let peppaScore = 7\n",
    "let georgeScore = 17\n",
    "\n",
    "peppaScore + 2\n",
    "georgeScore - 9\n",
    "\n",
    "\n",
    "console.log(peppaScore, georgeScore)"
   ]
  },
  {
   "cell_type": "markdown",
   "id": "30580c24",
   "metadata": {},
   "source": [
    "## Hack 3: JavaScript - Multiple Assignment and Math Operators\n",
    "Peppa and George both start at level 1. Use a single line to assign both their levels to 5. Then, calculate a combined score by multiplying their levels together and multiplying by 10. Print all results."
   ]
  },
  {
   "cell_type": "code",
   "execution_count": 6,
   "id": "67774ff3",
   "metadata": {
    "vscode": {
     "languageId": "javascript"
    }
   },
   "outputs": [
    {
     "data": {
      "application/javascript": "// Write your code here\n// let peppaLevel = 1, georgeLevel = 1;\n// Assign both levels to 5 in one line\n// Calculate combinedScore = peppaLevel * georgeLevel * 10;\n// Print all results\n\n// Declare and assign both levels on a single line:\nlet peppaLevel = 5, georgeLevel = 5\n\n// Calculate combined score\nlet combinedScore = peppaLevel + georgeLevel\n\n// Print results\nconsole.log(`Peppa Level: ${peppaLevel}, George Level: ${georgeLevel}`)\nconsole.log(`Combined Score: ${combinedScore}`)\n",
      "text/plain": [
       "<IPython.core.display.Javascript object>"
      ]
     },
     "metadata": {},
     "output_type": "display_data"
    }
   ],
   "source": [
    "%%js\n",
    "// Write your code here\n",
    "// let peppaLevel = 1, georgeLevel = 1;\n",
    "// Assign both levels to 5 in one line\n",
    "// Calculate combinedScore = peppaLevel * georgeLevel * 10;\n",
    "// Print all results\n",
    "\n",
    "// Declare and assign both levels on a single line:\n",
    "let peppaLevel = 5, georgeLevel = 5\n",
    "\n",
    "// Calculate combined score\n",
    "let combinedScore = peppaLevel + georgeLevel\n",
    "\n",
    "// Print results\n",
    "console.log(`Peppa Level: ${peppaLevel}, George Level: ${georgeLevel}`)\n",
    "console.log(`Combined Score: ${combinedScore}`)\n"
   ]
  }
 ],
 "metadata": {
  "kernelspec": {
   "display_name": "venv",
   "language": "python",
   "name": "python3"
  },
  "language_info": {
   "codemirror_mode": {
    "name": "ipython",
    "version": 3
   },
   "file_extension": ".py",
   "mimetype": "text/x-python",
   "name": "python",
   "nbconvert_exporter": "python",
   "pygments_lexer": "ipython3",
   "version": "3.12.3"
  }
 },
 "nbformat": 4,
 "nbformat_minor": 5
}
