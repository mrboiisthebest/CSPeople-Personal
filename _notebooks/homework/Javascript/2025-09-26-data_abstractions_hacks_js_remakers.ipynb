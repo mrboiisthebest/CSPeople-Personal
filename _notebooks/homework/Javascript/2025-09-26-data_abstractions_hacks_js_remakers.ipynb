{
 "cells": [
  {
   "cell_type": "raw",
   "id": "e4102f0e",
   "metadata": {
    "vscode": {
     "languageId": "raw"
    }
   },
   "source": [
    "---\n",
    "toc: true\n",
    "comments: false\n",
    "layout: post\n",
    "categories: [CSP Big Idea 3]\n",
    "title: 3.2 Data Abstractions JS Hack\n",
    "author: Jaynee Chauhan, Michelle Ji, Lucas Masterson\n",
    "description: Hack(s) for intro to data abstractions in JS.\n",
    "type: ccc\n",
    "permalink: /csp/big-idea-3/data-abstractions/p4/hacks-js\n",
    "---"
   ]
  },
  {
   "cell_type": "markdown",
   "id": "690b4172",
   "metadata": {},
   "source": [
    "## JS Lab: Library\n",
    "\n",
    "In this lab, similarly to the Python lab, you'll be working on a simple \"database\" for a library to understand CRUD operations in relation to representing redundant, similar data under one structure -- an abstraction.\n",
    "\n",
    "For JavaScript, you'll have to open the web console from Developer Tools (`ctrl + shift + p` -> `Developer: Toggle developer tools`)."
   ]
  },
  {
   "cell_type": "code",
   "execution_count": 16,
   "id": "d7228dda",
   "metadata": {
    "vscode": {
     "languageId": "javascript"
    }
   },
   "outputs": [
    {
     "data": {
      "application/javascript": "// Our \"database\" is an array of objects, each representing a book in a library.\nlet library = [\n    { title: \"1984\", author: \"George Orwell\", checkedOut: false },\n    { title: \"To Kill a Mockingbird\", author: \"Harper Lee\", checkedOut: true },\n    { title: \"The Great Gatsby\", author: \"F. Scott Fitzgerald\", checkedOut: false }\n];\n\n// Function to display all books\nfunction displayLibrary(lib) {\n    console.log(\"All books in the library:\");\n    lib.forEach((book, i) => {\n        console.log(`Index ${i}:`, book);\n    });\n}\n\n// Function to add a new book\nfunction addBook(lib, Title, Auther, CheckedOut) {\n    // map student's capitalized parameter names into the standardized properties\n    lib.push({ title: Title, author: Auther, checkedOut: CheckedOut });\n}\n\n// Function to find a book by title (returns index or -1)\nfunction findBook(lib, searchTitle) {\n    for (let i = 0; i < lib.length; i++) {\n        if (lib[i].title === searchTitle) {\n            return i;\n        }\n    }\n    return -1;\n}\n\n// Function to update a book's properties (simple, non-fancy merge)\nfunction updateBook(lib, searchTitle, NewInfo) {\n    let BookIndex = findBook(lib, searchTitle);\n    if (BookIndex === -1) {\n        console.log(`Book not found: ${searchTitle}`);\n        return false;\n    }\n\n    // accept both Title/Author or title/author keys in NewInfo\n    if (NewInfo.Title !== undefined) lib[BookIndex].title = NewInfo.Title;\n    if (NewInfo.Author !== undefined) lib[BookIndex].author = NewInfo.Author;\n    if (NewInfo.title !== undefined) lib[BookIndex].title = NewInfo.title;\n    if (NewInfo.author !== undefined) lib[BookIndex].author = NewInfo.author;\n    if (NewInfo.checkedOut !== undefined) lib[BookIndex].checkedOut = NewInfo.checkedOut;\n\n    return true;\n}\n\n// Function to delete a book by title\nfunction deleteBook(lib, searchTitle) {\n    let BookIndex = findBook(lib, searchTitle);\n    if (BookIndex === -1) {\n        console.log(`Book not found: ${searchTitle}`);\n        return false;\n    }\n    lib.splice(BookIndex, 1);\n    return true;\n}\n\n// Example usage (simple)\ndisplayLibrary(library);\naddBook(library, \"Dune\", \"Frank Herbert\", false);\nupdateBook(library, \"1984\", { checkedOut: true });\ndeleteBook(library, \"The Great Gatsby\");\nconsole.log('\\nAfter changes:');\ndisplayLibrary(library);\n",
      "text/plain": [
       "<IPython.core.display.Javascript object>"
      ]
     },
     "metadata": {},
     "output_type": "display_data"
    }
   ],
   "source": [
    "%%js\n",
    "// Our \"database\" is an array of objects, each representing a book in a library.\n",
    "let library = [\n",
    "    { title: \"1984\", author: \"George Orwell\", checkedOut: false },\n",
    "    { title: \"To Kill a Mockingbird\", author: \"Harper Lee\", checkedOut: true },\n",
    "    { title: \"The Great Gatsby\", author: \"F. Scott Fitzgerald\", checkedOut: false }\n",
    "];\n",
    "\n",
    "// Function to display all books\n",
    "function displayLibrary(lib) {\n",
    "    console.log(\"All books in the library:\");\n",
    "    lib.forEach((book, i) => {\n",
    "        console.log(`Index ${i}:`, book);\n",
    "    });\n",
    "}\n",
    "\n",
    "// Function to add a new book\n",
    "function addBook(lib, Title, Auther, CheckedOut) {\n",
    "    // map student's capitalized parameter names into the standardized properties\n",
    "    lib.push({ title: Title, author: Auther, checkedOut: CheckedOut });\n",
    "}\n",
    "\n",
    "// Function to find a book by title (returns index or -1)\n",
    "function findBook(lib, searchTitle) {\n",
    "    for (let i = 0; i < lib.length; i++) {\n",
    "        if (lib[i].title === searchTitle) {\n",
    "            return i;\n",
    "        }\n",
    "    }\n",
    "    return -1;\n",
    "}\n",
    "\n",
    "// Function to update a book's properties (simple, non-fancy merge)\n",
    "function updateBook(lib, searchTitle, NewInfo) {\n",
    "    let BookIndex = findBook(lib, searchTitle);\n",
    "    if (BookIndex === -1) {\n",
    "        console.log(`Book not found: ${searchTitle}`);\n",
    "        return false;\n",
    "    }\n",
    "\n",
    "    // accept both Title/Author or title/author keys in NewInfo\n",
    "    if (NewInfo.Title !== undefined) lib[BookIndex].title = NewInfo.Title;\n",
    "    if (NewInfo.Author !== undefined) lib[BookIndex].author = NewInfo.Author;\n",
    "    if (NewInfo.title !== undefined) lib[BookIndex].title = NewInfo.title;\n",
    "    if (NewInfo.author !== undefined) lib[BookIndex].author = NewInfo.author;\n",
    "    if (NewInfo.checkedOut !== undefined) lib[BookIndex].checkedOut = NewInfo.checkedOut;\n",
    "\n",
    "    return true;\n",
    "}\n",
    "\n",
    "// Function to delete a book by title\n",
    "function deleteBook(lib, searchTitle) {\n",
    "    let BookIndex = findBook(lib, searchTitle);\n",
    "    if (BookIndex === -1) {\n",
    "        console.log(`Book not found: ${searchTitle}`);\n",
    "        return false;\n",
    "    }\n",
    "    lib.splice(BookIndex, 1);\n",
    "    return true;\n",
    "}\n",
    "\n",
    "// Example usage (simple)\n",
    "displayLibrary(library);\n",
    "addBook(library, \"Dune\", \"Frank Herbert\", false);\n",
    "updateBook(library, \"1984\", { checkedOut: true });\n",
    "deleteBook(library, \"The Great Gatsby\");\n",
    "console.log('\\nAfter changes:');\n",
    "displayLibrary(library);\n"
   ]
  }
 ],
 "metadata": {
  "kernelspec": {
   "display_name": "venv",
   "language": "python",
   "name": "python3"
  },
  "language_info": {
   "codemirror_mode": {
    "name": "ipython",
    "version": 3
   },
   "file_extension": ".py",
   "mimetype": "text/x-python",
   "name": "python",
   "nbconvert_exporter": "python",
   "pygments_lexer": "ipython3",
   "version": "3.12.3"
  }
 },
 "nbformat": 4,
 "nbformat_minor": 5
}
