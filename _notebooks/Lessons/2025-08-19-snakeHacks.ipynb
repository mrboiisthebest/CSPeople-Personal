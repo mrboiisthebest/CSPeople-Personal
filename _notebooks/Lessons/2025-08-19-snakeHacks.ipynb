{
 "cells": [
  {
   "cell_type": "raw",
   "id": "5bcdd9a4",
   "metadata": {
    "vscode": {
     "languageId": "raw"
    }
   },
   "source": [
    "---\n",
    "title: Gaming Fundamentals & Snake\n",
    "comments: true\n",
    "layout: post\n",
    "permalink: /snakegaming/lesson\n",
    "description: A lesson about the basics of game development, including functions, variables, loops, conditionals, more using Snake as an example and a project to work on.\n",
    "author: Evan S, West S, Ethan W, Nico D\n",
    "---"
   ]
  },
  {
   "cell_type": "markdown",
   "id": "754f3a38",
   "metadata": {},
   "source": [
    "## Game Syntax Basics\n",
    "\n",
    "This lesson aims to teach you a few basic fundamentals of game design using Javascript.\n",
    "\n",
    "### Agenda\n",
    "\n",
    "- Show off the main components of the game\n",
    "- Break down some syntax\n",
    "- Show small components of the game and how they can be modified to create a better product\n",
    "- Assign Hacks (homework)\n",
    "\n",
    "## Snake Game Outline\n",
    "\n",
    "The snake game is composed of 2 main components on a Markdown page: style/display and logic.\n",
    "\n",
    " Markdown is especially helpful for creating games in one file because supports HTML, which allows you to embed both CSS (styling) and Javascript (scripts/game logic).\n",
    "  \n",
    "### Skeleton of the Game\n",
    "\n",
    "\n",
    "\n",
    "#### Frontmatter\n",
    "\n",
    "Frontmatter refers to a few lines of code at the beginning of a MarkDown web page that gives the search engine important infromation on how to run the site (title, subdomain, preset styles, etc.). It is very important for styling in MarkDown, as without it the engine would not know how to display the site and just use its defaults. Below is an example of the frontmatter used to run this site!"
   ]
  },
  {
   "cell_type": "raw",
   "id": "295509ac",
   "metadata": {
    "vscode": {
     "languageId": "raw"
    }
   },
   "source": [
    "---\n",
    "title: Gaming Fundamentals & Snake\n",
    "comments: true\n",
    "layout: post\n",
    "permalink: /snakegaming\n",
    "description: A lesson about the basics of game development, including functions, variables, loops, conditionals, more using Snake as an example and a project to work on.\n",
    "author: Evan S, West S, Ethan W, Nico D\n",
    "---"
   ]
  },
  {
   "cell_type": "markdown",
   "id": "a40c42cf",
   "metadata": {},
   "source": [
    "#### CSS Styling (controls the appearance of the page)\n",
    "CSS defines how the game looks, including layout, colors, and which screens are visible. It also handles user interaction styles like hover effects.\n"
   ]
  },
  {
   "cell_type": "code",
   "execution_count": null,
   "id": "4856e0d5",
   "metadata": {
    "vscode": {
     "languageId": "css"
    }
   },
   "outputs": [],
   "source": [
    "canvas {\n",
    "    border-style: solid;\n",
    "    border-width: 10px;\n",
    "    border-color: #FFFFFF;\n",
    "}"
   ]
  },
  {
   "cell_type": "markdown",
   "id": "e6f6b817",
   "metadata": {},
   "source": [
    "This gives the game canvas a visible white border, helping players clearly see the game area. CSS also hides or shows screens, like the menu and game-over screens, depending on the game state. Plenty of other parts of the page are defined and styled using CSS, like game over screens or text color for certain interactibles."
   ]
  },
  {
   "cell_type": "markdown",
   "id": "fc7fe912",
   "metadata": {},
   "source": [
    "\n",
    "### HTML Game Container\n",
    "HTML organizes the elements that make up the game: the canvas, score display, menus, and settings. It provides the structure and interactive elements that the JavaScript controls during gameplay.\n",
    "\n"
   ]
  },
  {
   "cell_type": "code",
   "execution_count": null,
   "id": "14e1fd1e",
   "metadata": {
    "vscode": {
     "languageId": "html"
    }
   },
   "outputs": [],
   "source": [
    "<div id=\"menu\" class=\"py-4 text-light\">\n",
    "    <p>Welcome to Snake, press <span \n",
    "    style=\"background-color: #FFFFFF; color: #000000\">space</span> to begin</p>\n",
    "    <a id=\"new_game\" class=\"link-alert\">new game</a>\n",
    "</div>"
   ]
  },
  {
   "cell_type": "markdown",
   "id": "eb7f1632",
   "metadata": {},
   "source": [
    "This creates the main menu with instructions and a button to start a new game. HTML allows users to interact with the game through buttons, links, and input options."
   ]
  },
  {
   "cell_type": "markdown",
   "id": "e9f0474e",
   "metadata": {},
   "source": [
    "### Game Initialization & Constants\n",
    "The game sets up essential constants and variables during initialization. Game constants define screen states, block size, and DOM (Document Object Model, look this up) element references for efficient access.\n"
   ]
  },
  {
   "cell_type": "code",
   "execution_count": null,
   "id": "14ba07d8",
   "metadata": {
    "vscode": {
     "languageId": "javascript"
    }
   },
   "outputs": [],
   "source": [
    "// Canvas & Context\n",
    "const canvas = document.getElementById(\"snake\");\n",
    "const ctx = canvas.getContext(\"2d\");\n",
    "\n",
    "// HTML Game IDs\n",
    "const SCREEN_SNAKE = 0;\n",
    "const screen_snake = document.getElementById(\"snake\");\n",
    "const ele_score = document.getElementById(\"score_value\");\n",
    "const speed_setting = document.getElementsByName(\"speed\");\n",
    "const wall_setting = document.getElementsByName(\"wall\");\n",
    "\n",
    "// HTML Screen IDs (div)\n",
    "const SCREEN_MENU = -1, SCREEN_GAME_OVER = 1, SCREEN_SETTING = 2;\n",
    "const screen_menu = document.getElementById(\"menu\");\n",
    "const screen_game_over = document.getElementById(\"gameover\");\n",
    "const screen_setting = document.getElementById(\"setting\");\n",
    "\n",
    "// HTML Event IDs (buttons)\n",
    "const button_new_game = document.getElementById(\"new_game\");\n",
    "const button_new_game1 = document.getElementById(\"new_game1\");\n",
    "const button_new_game2 = document.getElementById(\"new_game2\");\n",
    "const button_setting_menu = document.getElementById(\"setting_menu\");\n",
    "const button_setting_menu1 = document.getElementById(\"setting_menu1\");\n",
    "\n",
    "// Game Control Variables\n",
    "const BLOCK = 10;   // size of block rendering\n",
    "let SCREEN = SCREEN_MENU;\n",
    "let snake;\n",
    "let snake_dir;\n",
    "let snake_next_dir;\n",
    "let snake_speed;\n",
    "let food = {x: 0, y: 0};\n",
    "let score;\n",
    "let wall;"
   ]
  },
  {
   "cell_type": "markdown",
   "id": "82c4556f",
   "metadata": {},
   "source": [
    "### Game State Management\n",
    "The application uses a screen-based state system with constants to control which interface is visible. The `showScreen()` function handles all screen transitions by manipulating DOM element visibility."
   ]
  },
  {
   "cell_type": "code",
   "execution_count": null,
   "id": "a46f62fd",
   "metadata": {
    "vscode": {
     "languageId": "javascript"
    }
   },
   "outputs": [],
   "source": [
    "let showScreen = function(screen_opt){\n",
    "    SCREEN = screen_opt;\n",
    "    switch(screen_opt){\n",
    "        case SCREEN_SNAKE:\n",
    "            screen_snake.style.display = \"block\";\n",
    "            screen_menu.style.display = \"none\";\n",
    "            screen_setting.style.display = \"none\";\n",
    "            screen_game_over.style.display = \"none\";\n",
    "            break;\n",
    "        case SCREEN_GAME_OVER:\n",
    "            screen_snake.style.display = \"block\";\n",
    "            screen_menu.style.display = \"none\";\n",
    "            screen_setting.style.display = \"none\";\n",
    "            screen_game_over.style.display = \"block\";\n",
    "            break;\n",
    "        case SCREEN_SETTING:\n",
    "            screen_snake.style.display = \"none\";\n",
    "            screen_menu.style.display = \"none\";\n",
    "            screen_setting.style.display = \"block\";\n",
    "            screen_game_over.style.display = \"none\";\n",
    "            break;\n",
    "    }\n",
    "}"
   ]
  },
  {
   "cell_type": "markdown",
   "id": "d130a707",
   "metadata": {},
   "source": [
    "### Event Handling & Controls Setup\n",
    "Keyboard input uses event listeners for arrow keys with direction validation to prevent immediate reversal. The spacebar serves as a universal \"start/restart\" key across different screens. This is how the game listens to your inputs."
   ]
  },
  {
   "cell_type": "code",
   "execution_count": null,
   "id": "bca286e4",
   "metadata": {
    "vscode": {
     "languageId": "javascript"
    }
   },
   "outputs": [],
   "source": [
    "window.onload = function(){\n",
    "    // HTML Events to Functions - Button clicks\n",
    "    button_new_game.onclick = function(){newGame();};\n",
    "    button_new_game1.onclick = function(){newGame();};\n",
    "    button_new_game2.onclick = function(){newGame();};\n",
    "    button_setting_menu.onclick = function(){showScreen(SCREEN_SETTING);};\n",
    "    button_setting_menu1.onclick = function(){showScreen(SCREEN_SETTING);};\n",
    "    \n",
    "    // Speed setting event listeners\n",
    "    setSnakeSpeed(150);\n",
    "    for(let i = 0; i < speed_setting.length; i++){\n",
    "        speed_setting[i].addEventListener(\"click\", function(){\n",
    "            for(let i = 0; i < speed_setting.length; i++){\n",
    "                if(speed_setting[i].checked){\n",
    "                    setSnakeSpeed(speed_setting[i].value);\n",
    "                }\n",
    "            }\n",
    "        });\n",
    "    }\n",
    "    \n",
    "    // Wall setting event listeners\n",
    "    setWall(1);\n",
    "    for(let i = 0; i < wall_setting.length; i++){\n",
    "        wall_setting[i].addEventListener(\"click\", function(){\n",
    "            for(let i = 0; i < wall_setting.length; i++){\n",
    "                if(wall_setting[i].checked){\n",
    "                    setWall(wall_setting[i].value);\n",
    "                }\n",
    "            }\n",
    "        });\n",
    "    }\n",
    "    \n",
    "    // Spacebar detection for game start/restart\n",
    "    window.addEventListener(\"keydown\", function(evt) {\n",
    "        if(evt.code === \"Space\" && SCREEN !== SCREEN_SNAKE)\n",
    "            newGame();\n",
    "    }, true);\n",
    "}"
   ]
  },
  {
   "cell_type": "markdown",
   "id": "3fa31204",
   "metadata": {},
   "source": [
    "### Direction Control System\n",
    "The direction system prevents the snake from immediately reversing into itself while allowing smooth direction changes. Arrow key codes are mapped to direction numbers for easy processing."
   ]
  },
  {
   "cell_type": "code",
   "execution_count": null,
   "id": "08198e0d",
   "metadata": {
    "vscode": {
     "languageId": "javascript"
    }
   },
   "outputs": [],
   "source": [
    "let changeDir = function(key){\n",
    "    // Direction mapping: 0=Up, 1=Right, 2=Down, 3=Left\n",
    "    switch(key) {\n",
    "        case 37:    // left arrow\n",
    "            if (snake_dir !== 1)    // not right\n",
    "                snake_next_dir = 3; // then switch left\n",
    "            break;\n",
    "        case 38:    // up arrow\n",
    "            if (snake_dir !== 2)    // not down\n",
    "                snake_next_dir = 0; // then switch up\n",
    "            break;\n",
    "        case 39:    // right arrow\n",
    "            if (snake_dir !== 3)    // not left\n",
    "                snake_next_dir = 1; // then switch right\n",
    "            break;\n",
    "        case 40:    // down arrow\n",
    "            if (snake_dir !== 0)    // not up\n",
    "                snake_next_dir = 2; // then switch down\n",
    "            break;\n",
    "    }\n",
    "}"
   ]
  },
  {
   "cell_type": "markdown",
   "id": "b7d5d937",
   "metadata": {},
   "source": [
    "### Game Initialization & Setup\n",
    "The `newGame()` function resets all game variables and initializes the snake's starting position. This function is called whenever a new game begins, ensuring a clean slate."
   ]
  },
  {
   "cell_type": "code",
   "execution_count": null,
   "id": "20ad5b3d",
   "metadata": {
    "vscode": {
     "languageId": "javascript"
    }
   },
   "outputs": [],
   "source": [
    "let newGame = function(){\n",
    "    // Switch to game screen and focus for keyboard input\n",
    "    showScreen(SCREEN_SNAKE);\n",
    "    screen_snake.focus();\n",
    "    \n",
    "    // Reset game state\n",
    "    score = 0;\n",
    "    altScore(score);\n",
    "    \n",
    "    // Initialize snake with starting position\n",
    "    snake = [];\n",
    "    snake.push({x: 0, y: 15});  // Starting position\n",
    "    snake_next_dir = 1;         // Moving right initially\n",
    "    \n",
    "    // Place first food on canvas\n",
    "    addFood();\n",
    "    \n",
    "    // Activate keyboard controls for canvas\n",
    "    canvas.onkeydown = function(evt) {\n",
    "        changeDir(evt.keyCode);\n",
    "    }\n",
    "    \n",
    "    // Start the main game loop\n",
    "    mainLoop();\n",
    "}"
   ]
  },
  {
   "cell_type": "markdown",
   "id": "287c7237",
   "metadata": {},
   "source": [
    "### Core Game Loop Architecture\n",
    "The `mainLoop()` function implements the classic game loop pattern: update game state, check collisions, render graphics, then recursively call itself with setTimeout. This creates smooth, continuous gameplay at a controlled frame rate."
   ]
  },
  {
   "cell_type": "code",
   "execution_count": null,
   "id": "acb1f2c5",
   "metadata": {
    "vscode": {
     "languageId": "javascript"
    }
   },
   "outputs": [],
   "source": [
    "let mainLoop = function(){\n",
    "    // Get current head position\n",
    "    let _x = snake[0].x;\n",
    "    let _y = snake[0].y;\n",
    "    snake_dir = snake_next_dir;   // Update direction from input\n",
    "    \n",
    "    // Calculate new head position based on direction\n",
    "    // Direction 0=Up, 1=Right, 2=Down, 3=Left\n",
    "    switch(snake_dir){\n",
    "        case 0: _y--; break;\n",
    "        case 1: _x++; break;\n",
    "        case 2: _y++; break;\n",
    "        case 3: _x--; break;\n",
    "    }\n",
    "    \n",
    "    // Move snake: remove tail, add new head\n",
    "    snake.pop(); \n",
    "    snake.unshift({x: _x, y: _y});\n",
    "    \n",
    "    // ... collision detection code here ...\n",
    "    // ... rendering code here ...\n",
    "    \n",
    "    // Recursive call to continue game loop\n",
    "    setTimeout(mainLoop, snake_speed);\n",
    "}"
   ]
  },
  {
   "cell_type": "markdown",
   "id": "34f54242",
   "metadata": {},
   "source": [
    "### Snake Movement & Physics\n",
    "Snake movement uses a coordinate system where the head gets a new position based on direction, and the tail is removed unless food is eaten. The snake is represented as an array of coordinate objects `{x, y}`."
   ]
  },
  {
   "cell_type": "code",
   "execution_count": null,
   "id": "a3449f8d",
   "metadata": {
    "vscode": {
     "languageId": "javascript"
    }
   },
   "outputs": [],
   "source": [
    "// Snake movement logic (from within mainLoop)\n",
    "let _x = snake[0].x;  // Current head x position\n",
    "let _y = snake[0].y;  // Current head y position\n",
    "snake_dir = snake_next_dir;  // Apply queued direction change\n",
    "\n",
    "// Calculate new head position\n",
    "switch(snake_dir){\n",
    "    case 0: _y--; break;  // Up\n",
    "    case 1: _x++; break;  // Right\n",
    "    case 2: _y++; break;  // Down  \n",
    "    case 3: _x--; break;  // Left\n",
    "}\n",
    "\n",
    "// Move snake body\n",
    "snake.pop(); // Remove tail segment\n",
    "snake.unshift({x: _x, y: _y}); // Add new head position\n",
    "\n",
    "// Wall wrapping logic (when walls are disabled)\n",
    "if(wall === 0){\n",
    "    for(let i = 0, x = snake.length; i < x; i++){\n",
    "        if(snake[i].x < 0){\n",
    "            snake[i].x = snake[i].x + (canvas.width / BLOCK);\n",
    "        }\n",
    "        if(snake[i].x === canvas.width / BLOCK){\n",
    "            snake[i].x = snake[i].x - (canvas.width / BLOCK);\n",
    "        }\n",
    "        if(snake[i].y < 0){\n",
    "            snake[i].y = snake[i].y + (canvas.height / BLOCK);\n",
    "        }\n",
    "        if(snake[i].y === canvas.height / BLOCK){\n",
    "            snake[i].y = snake[i].y - (canvas.height / BLOCK);\n",
    "        }\n",
    "    }\n",
    "}"
   ]
  },
  {
   "cell_type": "markdown",
   "id": "7b709eb2",
   "metadata": {},
   "source": [
    "### Collision Detection System\n",
    "The game implements multiple collision types: wall collisions (when enabled), self-collision detection, and food consumption detection. All use simple coordinate comparison functions."
   ]
  },
  {
   "cell_type": "code",
   "execution_count": null,
   "id": "89448699",
   "metadata": {
    "vscode": {
     "languageId": "javascript"
    }
   },
   "outputs": [],
   "source": [
    "// Wall collision detection (when walls are enabled)\n",
    "if(wall === 1){\n",
    "    if (snake[0].x < 0 || snake[0].x === canvas.width / BLOCK || \n",
    "        snake[0].y < 0 || snake[0].y === canvas.height / BLOCK){\n",
    "        showScreen(SCREEN_GAME_OVER);\n",
    "        return;\n",
    "    }\n",
    "}\n",
    "\n",
    "// Self-collision detection (snake hits itself)\n",
    "for(let i = 1; i < snake.length; i++){\n",
    "    if (snake[0].x === snake[i].x && snake[0].y === snake[i].y){\n",
    "        showScreen(SCREEN_GAME_OVER);\n",
    "        return;\n",
    "    }\n",
    "}\n",
    "\n",
    "// Generic collision detection helper function\n",
    "let checkBlock = function(x, y, _x, _y){\n",
    "    return (x === _x && y === _y);\n",
    "}\n",
    "\n",
    "// Food collision detection and handling\n",
    "if(checkBlock(snake[0].x, snake[0].y, food.x, food.y)){\n",
    "    // Grow snake by adding segment\n",
    "    snake[snake.length] = {x: snake[0].x, y: snake[0].y};\n",
    "    // Increase score\n",
    "    altScore(++score);\n",
    "    // Generate new food\n",
    "    addFood();\n",
    "    // Render new food position\n",
    "    activeDot(food.x, food.y);\n",
    "}"
   ]
  },
  {
   "cell_type": "markdown",
   "id": "31cdd185",
   "metadata": {},
   "source": [
    "### Food Generation & Scoring\n",
    "Food spawns randomly on the grid using `Math.floor(Math.random())` but includes validation to prevent spawning on the snake's body. Each food consumption increases the score and snake length."
   ]
  },
  {
   "cell_type": "code",
   "execution_count": null,
   "id": "37f3094b",
   "metadata": {
    "vscode": {
     "languageId": "javascript"
    }
   },
   "outputs": [],
   "source": [
    "// Random food placement with collision avoidance\n",
    "let addFood = function(){\n",
    "    // Generate random position within canvas bounds\n",
    "    food.x = Math.floor(Math.random() * ((canvas.width / BLOCK) - 1));\n",
    "    food.y = Math.floor(Math.random() * ((canvas.height / BLOCK) - 1));\n",
    "    \n",
    "    // Check if food spawned on snake body\n",
    "    for(let i = 0; i < snake.length; i++){\n",
    "        if(checkBlock(food.x, food.y, snake[i].x, snake[i].y)){\n",
    "            addFood(); // Recursive call to try again\n",
    "        }\n",
    "    }\n",
    "}\n",
    "\n",
    "// Score update and display function\n",
    "let altScore = function(score_val){\n",
    "    ele_score.innerHTML = String(score_val);\n",
    "}"
   ]
  },
  {
   "cell_type": "markdown",
   "id": "02f0e6d2",
   "metadata": {},
   "source": [
    "### Canvas Rendering & Graphics\n",
    "The rendering system uses HTML5 Canvas with simple rectangle drawing (`fillRect`) to create the snake segments and food. The game redraws the entire canvas each frame with a blue background."
   ]
  },
  {
   "cell_type": "code",
   "execution_count": null,
   "id": "d0f2720a",
   "metadata": {
    "vscode": {
     "languageId": "javascript"
    }
   },
   "outputs": [],
   "source": [
    "// Main rendering logic (from within mainLoop)\n",
    "// Clear canvas and paint background\n",
    "ctx.beginPath();\n",
    "ctx.fillStyle = \"royalblue\";\n",
    "ctx.fillRect(0, 0, canvas.width, canvas.height);\n",
    "\n",
    "// Draw all snake segments\n",
    "for(let i = 0; i < snake.length; i++){\n",
    "    activeDot(snake[i].x, snake[i].y);\n",
    "}\n",
    "\n",
    "// Draw food\n",
    "activeDot(food.x, food.y);\n",
    "\n",
    "// Individual dot/block rendering function\n",
    "let activeDot = function(x, y){\n",
    "    ctx.fillStyle = \"#FFFFFF\";\n",
    "    ctx.fillRect(x * BLOCK, y * BLOCK, BLOCK, BLOCK);\n",
    "}"
   ]
  },
  {
   "cell_type": "markdown",
   "id": "dcfa0e7e",
   "metadata": {},
   "source": [
    "### Settings & Configuration\n",
    "The game includes customizable speed settings (slow/normal/fast) and wall toggle functionality, demonstrating how to implement user preferences in games. Settings are managed through radio button inputs with event listeners."
   ]
  },
  {
   "cell_type": "code",
   "execution_count": null,
   "id": "d79f6a56",
   "metadata": {
    "vscode": {
     "languageId": "javascript"
    }
   },
   "outputs": [],
   "source": [
    "// Speed control functions\n",
    "let setSnakeSpeed = function(speed_value){\n",
    "    snake_speed = speed_value;\n",
    "}\n",
    "// Speed values: 120=slow, 75=normal, 35=fast\n",
    "\n",
    "// Wall setting function with visual feedback\n",
    "let setWall = function(wall_value){\n",
    "    wall = wall_value;\n",
    "    // Change border color based on wall setting\n",
    "    if(wall === 0){\n",
    "        screen_snake.style.borderColor = \"#606060\"; // Gray for no walls\n",
    "    }\n",
    "    if(wall === 1){\n",
    "        screen_snake.style.borderColor = \"#FFFFFF\"; // White for walls\n",
    "    }\n",
    "}\n",
    "\n",
    "// Settings event handling (from window.onload)\n",
    "for(let i = 0; i < speed_setting.length; i++){\n",
    "    speed_setting[i].addEventListener(\"click\", function(){\n",
    "        for(let i = 0; i < speed_setting.length; i++){\n",
    "            if(speed_setting[i].checked){\n",
    "                setSnakeSpeed(speed_setting[i].value);\n",
    "            }\n",
    "        }\n",
    "    });\n",
    "}\n",
    "\n",
    "for(let i = 0; i < wall_setting.length; i++){\n",
    "    wall_setting[i].addEventListener(\"click\", function(){\n",
    "        for(let i = 0; i < wall_setting.length; i++){\n",
    "            if(wall_setting[i].checked){\n",
    "                setWall(wall_setting[i].value);\n",
    "            }\n",
    "        }\n",
    "    });\n",
    "}"
   ]
  },
  {
   "cell_type": "markdown",
   "id": "ec9b2209",
   "metadata": {},
   "source": [
    "# Game Flow Summary\n",
    "\n",
    "## 1. **Initialization Phase:**\n",
    "   - Load HTML structure with multiple screens\n",
    "   - Set up CSS styling and visual effects\n",
    "   - Initialize JavaScript variables and constants\n",
    "   - Bind event handlers to buttons and keyboard\n",
    "\n",
    "## 2. **Game Start Sequence:**\n",
    "   - User presses spacebar or clicks \"new game\"\n",
    "   - `newGame()` function resets all variables\n",
    "   - Snake spawns at starting position\n",
    "   - First food is randomly placed\n",
    "   - Main game loop begins\n",
    "\n",
    "## 3. **Game Loop Cycle:**\n",
    "   - Read player input (arrow keys)\n",
    "   - Update snake position based on direction\n",
    "   - Check for collisions (walls, self, food)\n",
    "   - Handle collision consequences (game over, growth, score)\n",
    "   - Render updated game state to canvas\n",
    "   - Schedule next loop iteration with setTimeout\n",
    "\n",
    "## 4. **Game End:**\n",
    "   - Collision detected triggers game over screen\n",
    "   - Player can restart or change settings\n",
    "   - Process repeats from initialization\n",
    "\n",
    "## Your Turn! \n",
    "\n",
    "- Please Open \"examplehacks.ipynb\".\n",
    "- Complete 3 of our \"easy\" hacks.\n",
    "- Complete 2 of our \"hard\" hacks.\n",
    "- Complete the **challenge** hack OR Make a substantial change to the game on your own.\n",
    "\n"
   ]
  }
 ],
 "metadata": {
  "language_info": {
   "name": "python"
  }
 },
 "nbformat": 4,
 "nbformat_minor": 5
}
