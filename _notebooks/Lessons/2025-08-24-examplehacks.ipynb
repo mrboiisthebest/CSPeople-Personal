{
 "cells": [
  {
   "cell_type": "raw",
   "id": "ff482d7b",
   "metadata": {
    "vscode": {
     "languageId": "raw"
    }
   },
   "source": [
    "---\n",
    "title: Snake Game Hacks\n",
    "comments: true\n",
    "layout: post\n",
    "permalink: /snakegaming/hacks\n",
    "description: A notebook on changes that you can attempt on your own snake game.\n",
    "author: Evan S, West S, Ethan W, Nico D\n",
    "---"
   ]
  },
  {
   "cell_type": "markdown",
   "id": "04316149",
   "metadata": {},
   "source": [
    "# Hacks!\n"
   ]
  },
  {
   "cell_type": "markdown",
   "id": "71ed1b8d",
   "metadata": {},
   "source": [
    "- Now that you know the basics and the outlines of the game, try some changes of your own!\n",
    "- We will provide a list of easy, hard, and one challenge change that you guys can attempt.\n"
   ]
  },
  {
   "cell_type": "markdown",
   "id": "9d161fb1",
   "metadata": {},
   "source": [
    "### Easy Hacks\n",
    "\n",
    "- Change the background color, snake color, and food color\n",
    "- Add or change settings to change the speed of the snake\n",
    "- Increase the amount of length the snake gets from the food\n",
    "- Add new keybinds to the snake (e.g give it WASD controls)\n",
    "- Add a glowing effect to any part of the game\n",
    "- Overhaul the UI (interface) of the setting screens/game over screen\n"
   ]
  },
  {
   "cell_type": "markdown",
   "id": "1c4eb5ca",
   "metadata": {},
   "source": [
    "### Hard Hacks\n",
    "\n",
    "- Change the food to use a different color or image than the snake body\n",
    "- Add obstacles that the snake has to avoid\n",
    "- Give snake multiple lives\n",
    "- Make multiple foods available to the snake"
   ]
  },
  {
   "cell_type": "markdown",
   "id": "3eea7885",
   "metadata": {},
   "source": [
    "## Challenge!\n",
    "- After every apple that you eat, your speed increases.\n",
    "\n",
    "If you don't want to do this challenge, make a substantial change on your own that we have not listed. We will accept that too! Completing both the challenge and a personal iteration = extra credit."
   ]
  },
  {
   "cell_type": "markdown",
   "id": "f490d962",
   "metadata": {},
   "source": [
    "# Our Example"
   ]
  },
  {
   "cell_type": "markdown",
   "id": "f89d23da",
   "metadata": {},
   "source": [
    "- Our group made some of the easy changes ourself\n",
    "- We changed the snake and food color, border color, and the background color\n",
    "- Check game for reference"
   ]
  }
 ],
 "metadata": {
  "language_info": {
   "name": "python"
  }
 },
 "nbformat": 4,
 "nbformat_minor": 5
}
