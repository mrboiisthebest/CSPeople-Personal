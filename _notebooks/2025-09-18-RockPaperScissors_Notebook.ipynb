{
 "cells": [
  {
   "cell_type": "code",
   "execution_count": null,
   "id": "307af12e",
   "metadata": {
    "vscode": {
     "languageId": "plaintext"
    }
   },
   "outputs": [],
   "source": [
    "---\n",
    "title: Rock Paper Scissor Lesson\n",
    "comments: true\n",
    "layout: post\n",
    "permalink: /rps/lesson\n",
    "description: Lesson on how the rps game works and with an explination of the key concepts of the game\n",
    "author: Ethan Wong\n",
    "---"
   ]
  },
  {
   "cell_type": "markdown",
   "metadata": {},
   "source": [
    "# 🎮 Rock Paper Scissors Game – Beginner’s Coding Notebook\n",
    "\n",
    "Welcome! In this notebook, we’ll explore a fun **Rock Paper Scissors** game written in JavaScript.  \n",
    "Don’t worry if you’re new to coding — we’ll break it down step by step."
   ]
  },
  {
   "cell_type": "markdown",
   "metadata": {},
   "source": [
    "## 🟣 1. The Setup: HTML + JavaScript\n",
    "This game is built with **HTML** (the page structure) and **JavaScript** (the logic).  \n",
    "\n",
    "- **HTML** is like the *bones* of the page.\n",
    "- **CSS** (styles) is like the *clothes* and *makeup*.\n",
    "- **JavaScript** is the *brain* that makes things interactive.\n",
    "\n",
    "Here, our HTML creates a space on the page (`<div>` boxes and `<canvas>`), and JavaScript controls how the game looks and works."
   ]
  },
  {
   "cell_type": "markdown",
   "metadata": {},
   "source": [
    "## 🟢 2. The Purple Box (Instructions & Buttons)\n",
    "The game shows a big purple box with instructions and buttons for Rock, Paper, and Scissors.\n",
    "\n",
    "```js\n",
    "const instructionsHTML = `\n",
    "  <h2>Rock Paper Scissors SHOOT!</h2>\n",
    "  <p>Play the game from your browser console!</p>\n",
    "  <p>Type playRPS(\"rock\"), playRPS(\"paper\"), or playRPS(\"scissors\")</p>\n",
    "`;\n",
    "```"
   ]
  },
  {
   "cell_type": "markdown",
   "metadata": {},
   "source": [
    "💡 This creates a message telling the player how to play.  \n",
    "The buttons each have an image (rock, paper, scissors). Clicking them shows a hint about what you can do in the **console**."
   ]
  },
  {
   "cell_type": "markdown",
   "metadata": {},
   "source": [
    "## 🟡 3. Highlighting a Choice\n",
    "When you pick Rock, Paper, or Scissors, the game highlights your choice.\n",
    "\n",
    "```js\n",
    "function highlightImage(id){\n",
    "  [\"rock-img\",\"paper-img\",\"scissors-img\"].forEach(i=>{\n",
    "    const el = document.getElementById(i);\n",
    "    if(el) el.style.boxShadow = \"\";\n",
    "  });\n",
    "  const picked = document.getElementById(id);\n",
    "  if(picked) picked.style.boxShadow = \"0 0 30px 10px gold\";\n",
    "}\n",
    "```"
   ]
  },
  {
   "cell_type": "markdown",
   "metadata": {},
   "source": [
    "👉 This makes your chosen picture glow with a gold outline."
   ]
  },
  {
   "cell_type": "markdown",
   "metadata": {},
   "source": [
    "## 🔵 4. OOP (Object-Oriented Programming)\n",
    "The code uses **classes** — these are *blueprints* for making objects.  \n",
    "Think of it like making cookies with a cookie-cutter: the **class** is the cutter, and each cookie is an **object**.\n",
    "\n",
    "### Example: `BattleSprite` Class\n",
    "```js\n",
    "class BattleSprite {\n",
    "  constructor(image, width, height, x, y){\n",
    "    this.image = image;\n",
    "    this.width = width;\n",
    "    this.height = height;\n",
    "    this.x = x;\n",
    "    this.y = y;\n",
    "  }\n",
    "\n",
    "  draw(ctx){\n",
    "    ctx.drawImage(this.image, this.x, this.y, this.width, this.height);\n",
    "  }\n",
    "}\n",
    "```"
   ]
  },
  {
   "cell_type": "markdown",
   "metadata": {},
   "source": [
    "This blueprint tells the computer how to draw an image (like Rock, Paper, or Scissors) on the canvas."
   ]
  },
  {
   "cell_type": "markdown",
   "metadata": {},
   "source": [
    "## 🟠 5. The Canvas (Animations!)\n",
    "The **canvas** is like a digital painting surface where animations happen.  \n",
    "\n",
    "- Rock, Paper, and Scissors float on the screen.\n",
    "- When a battle starts:\n",
    "  - The **winner** moves forward and pulses.\n",
    "  - The **loser** fades, shrinks, or spins.\n",
    "  - A **tie** wiggles and pulses.\n",
    "\n",
    "The **render loop** makes this happen continuously:\n",
    "\n",
    "```js\n",
    "function render(){\n",
    "  ctx.clearRect(0,0,battleCanvas.width,battleCanvas.height);\n",
    "\n",
    "  // update + draw sprites\n",
    "  Object.values(sprites).forEach(s=>{\n",
    "    s.update();\n",
    "    s.draw(ctx);\n",
    "  });\n",
    "\n",
    "  requestAnimationFrame(render);\n",
    "}\n",
    "render();\n",
    "```"
   ]
  },
  {
   "cell_type": "markdown",
   "metadata": {},
   "source": [
    "💡 `requestAnimationFrame` tells the computer to keep redrawing the screen smoothly (like a cartoon)."
   ]
  },
  {
   "cell_type": "markdown",
   "metadata": {},
   "source": [
    "## 🟤 6. Game Logic\n",
    "The actual game rules are here:\n",
    "\n",
    "```js\n",
    "window.playRPS = function(playerChoice){\n",
    "  const choices = [\"rock\",\"paper\",\"scissors\"];\n",
    "  const computerChoice = choices[Math.floor(Math.random()*choices.length)];\n",
    "\n",
    "  if(playerChoice === computerChoice){\n",
    "    resultText = \"Tie!\";\n",
    "  } else if(\n",
    "    (playerChoice===\"rock\" && computerChoice===\"scissors\") ||\n",
    "    (playerChoice===\"paper\" && computerChoice===\"rock\") ||\n",
    "    (playerChoice===\"scissors\" && computerChoice===\"paper\")\n",
    "  ){\n",
    "    resultText = \"You Win!\";\n",
    "  } else {\n",
    "    resultText = \"You Lose!\";\n",
    "  }\n",
    "};\n",
    "```"
   ]
  },
  {
   "cell_type": "markdown",
   "metadata": {},
   "source": [
    "- The computer picks randomly.  \n",
    "- The code compares choices.  \n",
    "- It prints **Win**, **Lose**, or **Tie**."
   ]
  },
  {
   "cell_type": "markdown",
   "metadata": {},
   "source": [
    "## 🟣 7. Customizing with OOP\n",
    "You can also change how Rock, Paper, and Scissors look by using **special classes** in the console.\n",
    "\n",
    "```js\n",
    "class GameObject {\n",
    "  constructor(id) {\n",
    "    this.el = document.getElementById(id);\n",
    "  }\n",
    "\n",
    "  rotate(deg) { this.el.style.transform = `rotate(${deg}deg)`; }\n",
    "  setBorder(style) { this.el.style.border = style; }\n",
    "  setWidth(px) { this.el.style.width = `${px}px`; }\n",
    "  setColor(color) { this.el.style.backgroundColor = color; }\n",
    "  reset() { this.el.style = \"\"; }\n",
    "}\n",
    "```\n",
    "\n",
    "For example:\n",
    "```js\n",
    "rock.rotate(45);\n",
    "paper.setBorder(\"6px solid pink\");\n",
    "scissors.reset();\n",
    "```"
   ]
  },
  {
   "cell_type": "markdown",
   "metadata": {},
   "source": [
    "This lets you *hack* the game’s appearance without touching the original code!"
   ]
  },
  {
   "cell_type": "markdown",
   "metadata": {},
   "source": [
    "# ✅ Hack/Homework\n",
    "\n",
    "Now that you’ve learned the basics, **try this challenge:**\n",
    "\n",
    "👉 **Challenge:**  \n",
    "Make the **background color** of the purple box change whenever you win, lose, or tie.  \n",
    "\n",
    "Hints:\n",
    "- Find the `<div>` with the purple box (`container`).\n",
    "- Use `container.style.background = \"red\";` (or green, yellow, etc.).\n",
    "- Add this code inside the `playRPS` function when setting the result.\n",
    "\n",
    "Extra Credit 🎯:  \n",
    "Make a **scoreboard** that keeps track of how many times you’ve won, lost, or tied."
   ]
  },
  {
   "cell_type": "markdown",
   "metadata": {},
   "source": [
    "✨ Congratulations! You’ve just explored a real interactive game built with HTML, CSS, and JavaScript, while also learning **OOP basics**, **canvas animation**, and **game logic**."
   ]
  }
 ],
 "metadata": {
  "kernelspec": {
   "display_name": "Python 3",
   "language": "python",
   "name": "python3"
  },
  "language_info": {
   "name": "python",
   "version": "3.9"
  }
 },
 "nbformat": 4,
 "nbformat_minor": 5
}
