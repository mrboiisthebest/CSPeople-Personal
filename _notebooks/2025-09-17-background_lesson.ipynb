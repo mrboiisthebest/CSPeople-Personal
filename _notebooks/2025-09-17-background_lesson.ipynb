{
 "cells": [
  {
   "cell_type": "raw",
   "id": "775c9f20",
   "metadata": {
    "vscode": {
     "languageId": "raw"
    }
   },
   "source": [
    "---\n",
    "title: Background Lesson\n",
    "comments: true\n",
    "layout: post\n",
    "permalink: /background/lesson\n",
    "description: Lesson on how the background.md file works\n",
    "author: Ethan Wong\n",
    "---"
   ]
  },
  {
   "cell_type": "markdown",
   "id": "021af94e",
   "metadata": {},
   "source": [
    "# 🎮 Scrolling Background Lesson (Beginner-Friendly)\n",
    "\n",
    "Welcome! This notebook will teach you how to create a **scrolling background** for a game step by step.  \n",
    "At the end of each step, you will answer a **checkpoint question** to test your understanding.  \n"
   ]
  },
  {
   "cell_type": "markdown",
   "id": "b2c4ecef",
   "metadata": {},
   "source": [
    "## Step 1: Drawing the Background\n",
    "\n",
    "Before we can make our background move, we need to understand how to **draw images on the canvas**.  \n",
    "\n",
    "In HTML games, this is done with the special method `drawImage`. This method lets us tell the computer **which image to use**, **where to place it**, and **how big it should be**.  \n",
    "\n",
    "The general format looks like this:\n",
    "\n",
    "```javascript\n",
    "ctx.drawImage(image, x, y, width, height);\n",
    "\n",
    "\n",
    "Checkpoint: Type the code to draw the background at the top-left corner of the canvas.\n"
   ]
  },
  {
   "cell_type": "code",
   "execution_count": null,
   "id": "7a326066",
   "metadata": {},
   "outputs": [],
   "source": [
    "# ⬇️ Type your answer below for Step 1\n",
    "answer1 = \"\"  # Example: \"ctx.drawImage(background, 0, 0);\"\n",
    "\n",
    "# Checkpoint 1\n",
    "correct1 = [\"ctx.drawImage(background, 0, 0);\"]\n",
    "if answer1 in correct1:\n",
    "    print(\"✅ Correct! You drew the background.\")\n",
    "else:\n",
    "    print(\"❌ Try again.\")"
   ]
  },
  {
   "cell_type": "markdown",
   "id": "c7b4377b",
   "metadata": {},
   "source": [
    "## Step 2: Moving the Background\n",
    "\n",
    "Now that we know how to draw the background, let’s make it **move**.  \n",
    "Movement in games happens by **changing the position of objects a little bit each frame**.  \n",
    "\n",
    "For our background, the important value is the **x position**.  \n",
    "- If we make the x position smaller each frame, the image will look like it’s sliding to the **left**.  \n",
    "- If we make the x position larger each frame, it will slide to the **right**.  \n",
    "\n",
    "This is how scrolling backgrounds are created — the position keeps changing, which makes the image look like it’s moving.\n",
    "\n",
    "Here’s a simple example:  \n",
    "\n",
    "```javascript\n",
    "// each frame, shift the background 2 pixels left\n",
    "backgroundX -= 2;\n",
    "\n",
    "\n",
    "Checkpoint: Type the code to move the background left by 2 pixels.\n"
   ]
  },
  {
   "cell_type": "code",
   "execution_count": null,
   "id": "6eb9649f",
   "metadata": {},
   "outputs": [],
   "source": [
    "# ⬇️ Type your answer below for Step 2\n",
    "answer2 = \"\"  # Example: \"backgroundX -= 2;\"\n",
    "\n",
    "# Checkpoint 2\n",
    "correct2 = [\"backgroundX -= 2;\", \"backgroundX=backgroundX-2;\"]\n",
    "if answer2 in correct2:\n",
    "    print(\"✅ Correct! The background now scrolls.\")\n",
    "else:\n",
    "    print(\"❌ Try again.\")"
   ]
  },
  {
   "cell_type": "markdown",
   "id": "96325ef2",
   "metadata": {},
   "source": [
    "## Step 3: Resetting the Background\n",
    "\n",
    "If we only move the background to the left, eventually the image will scroll all the way off the screen — and then the screen will just look blank.  \n",
    "\n",
    "To fix this, we need to make the background **loop forever**.  \n",
    "This means that when the first image moves off the screen, we reset its position so it starts over again.  \n",
    "That way, the player always sees a background, and it feels endless.  \n",
    "\n",
    "We can do this using an **if statement**:  \n",
    "\n",
    "```javascript\n",
    "if (backgroundX <= -canvas.width) backgroundX = 0;\n",
    "\n",
    "\n",
    "Checkpoint: Type the code to reset the background when it goes off screen.\n"
   ]
  },
  {
   "cell_type": "code",
   "execution_count": 6,
   "id": "3c104126",
   "metadata": {},
   "outputs": [
    {
     "name": "stdout",
     "output_type": "stream",
     "text": [
      "✅ Correct! The background loops forever 🚀\n"
     ]
    }
   ],
   "source": [
    "# ⬇️ Type your answer below for Step 3\n",
    "answer3 = \"if (backgroundX <= -canvas.width) backgroundX = 0;\"  # Example: \"if (backgroundX <= -canvas.width) backgroundX = 0;\"\n",
    "\n",
    "# Checkpoint 3\n",
    "correct3 = [\"if (backgroundX <= -canvas.width) backgroundX = 0;\"]\n",
    "if answer3 in correct3:\n",
    "    print(\"✅ Correct! The background loops forever 🚀\")\n",
    "else:\n",
    "    print(\"❌ Try again.\")"
   ]
  }
 ],
 "metadata": {
  "kernelspec": {
   "display_name": "venv",
   "language": "python",
   "name": "python3"
  },
  "language_info": {
   "codemirror_mode": {
    "name": "ipython",
    "version": 3
   },
   "file_extension": ".py",
   "mimetype": "text/x-python",
   "name": "python",
   "nbconvert_exporter": "python",
   "pygments_lexer": "ipython3",
   "version": "3.12.3"
  }
 },
 "nbformat": 4,
 "nbformat_minor": 5
}
