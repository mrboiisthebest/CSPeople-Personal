{
 "cells": [
  {
   "cell_type": "raw",
   "id": "6290bcd2",
   "metadata": {
    "vscode": {
     "languageId": "raw"
    }
   },
   "source": [
    "---\n",
    "title: \"Mathematical Operations in Javascript and Python - Hacks\"\n",
    "description: \"Apply your skills of math, logic, and coding.\"\n",
    "layout: post\n",
    "permalink: /javascript/mathematical-expressions/codemaxxers-hw\n",
    "---"
   ]
  },
  {
   "cell_type": "markdown",
   "id": "d98b569e",
   "metadata": {},
   "source": [
    "# Basic Algebraic Math hacks\n",
    "\n",
    "## Q1 (Exponents):\n",
    "### A cube has a side length of 6 units. What is its volume?"
   ]
  },
  {
   "cell_type": "code",
   "execution_count": null,
   "id": "235ceb13",
   "metadata": {
    "vscode": {
     "languageId": "javascript"
    }
   },
   "outputs": [],
   "source": [
    "%%js\n",
    "\n",
    "function GetCubeVolume(width, length, height){\n",
    "    let result = 0\n",
    "    result = width * length * height\n",
    "    return result\n",
    "}\n",
    "\n",
    "const CubeVolume = GetCubeVolume(6, 6, 6)\n",
    "console.log(CubeVolume)\n",
    "\n"
   ]
  },
  {
   "cell_type": "markdown",
   "id": "3fb1dd4d",
   "metadata": {},
   "source": [
    "## Q2 (PEMDAS):\n",
    "### Evaluate the expression: \n",
    "\n",
    "(7+14)*5/12 + 2"
   ]
  },
  {
   "cell_type": "code",
   "execution_count": null,
   "id": "49d712a3",
   "metadata": {
    "vscode": {
     "languageId": "javascript"
    }
   },
   "outputs": [],
   "source": [
    "%%js\n",
    "const result = (7+14)*5/12 + 2\n",
    "console.log(result)"
   ]
  },
  {
   "cell_type": "markdown",
   "id": "fcaa4762",
   "metadata": {},
   "source": [
    "## Q3 (Algorithm): \n",
    "\n",
    "Write JavaScript  code where you define variables and run commands that find the values of operations you apply onto them"
   ]
  },
  {
   "cell_type": "code",
   "execution_count": 1,
   "id": "0a2081a9",
   "metadata": {
    "vscode": {
     "languageId": "javascript"
    }
   },
   "outputs": [
    {
     "data": {
      "application/javascript": "// Computer need charge :P\nclass Computer{\n    constructor(Model){\n        this.Battery = 100\n        this.Active = false\n        this.Charging = false\n        this.Model = Model\n        this.BatteryHealth = 96\n    }\n\n    TurnOn(){\n        this.Active = true\n    }\n\n    TurnOff(){\n        this.Active = false\n    }\n\n    Charge(){\n        this.Charging = true\n    }\n\n    UnPlug(){\n        this.Charging = false\n    }\n}\n\nlet MyComputer = new Computer(\"Dell Laptop\")\n\nfunction Tick(){\n    if (MyComputer.Active == true){\n        MyComputer.Battery -= 1\n        console.log(`Active:${MyComputer.Battery}`)\n    }\n\n    if (MyComputer.Charging){\n        if (MyComputer.Battery != 100){\n            MyComputer.Battery += 1\n            console.log(`Charged:${MyComputer.Battery}`)\n        }\n    }\n\n\n    if (MyComputer.Battery <= 20){\n        console.log(\"CHARGE YOUR COMPUTER!!!\")\n    }\n\n    if(MyComputer.Battery >= 100 && MyComputer.Charging){\n        console.log(\"Computer I fullt charged Please Unplug!\")\n\n        if(MyComputer.BatteryHealth > 0){\n            MyComputer.BatteryHealth -= 0.5 \n        }\n    }\n}\n\n\nMyComputer.TurnOn()\n\nlet myInterval = setInterval(Tick, 1000);\n\n\n\n\n",
      "text/plain": [
       "<IPython.core.display.Javascript object>"
      ]
     },
     "metadata": {},
     "output_type": "display_data"
    }
   ],
   "source": [
    "%%js\n",
    "// Computer need charge :P\n",
    "class Computer{\n",
    "    constructor(Model){\n",
    "        this.Battery = 100\n",
    "        this.Active = false\n",
    "        this.Charging = false\n",
    "        this.Model = Model\n",
    "        this.BatteryHealth = 96\n",
    "    }\n",
    "\n",
    "    TurnOn(){\n",
    "        this.Active = true\n",
    "    }\n",
    "\n",
    "    TurnOff(){\n",
    "        this.Active = false\n",
    "    }\n",
    "\n",
    "    Charge(){\n",
    "        this.Charging = true\n",
    "    }\n",
    "\n",
    "    UnPlug(){\n",
    "        this.Charging = false\n",
    "    }\n",
    "}\n",
    "\n",
    "let MyComputer = new Computer(\"Dell Laptop\")\n",
    "\n",
    "function Tick(){\n",
    "    if (MyComputer.Active == true){\n",
    "        MyComputer.Battery -= 1\n",
    "        console.log(`Active:${MyComputer.Battery}`)\n",
    "    }\n",
    "\n",
    "    if (MyComputer.Charging){\n",
    "        if (MyComputer.Battery != 100){\n",
    "            MyComputer.Battery += 1\n",
    "            console.log(`Charged:${MyComputer.Battery}`)\n",
    "        }\n",
    "    }\n",
    "\n",
    "\n",
    "    if (MyComputer.Battery <= 20){\n",
    "        console.log(\"CHARGE YOUR COMPUTER!!!\")\n",
    "    }\n",
    "\n",
    "    if(MyComputer.Battery >= 100 && MyComputer.Charging){\n",
    "        console.log(\"Computer I fullt charged Please Unplug!\")\n",
    "\n",
    "        if(MyComputer.BatteryHealth > 0){\n",
    "            MyComputer.BatteryHealth -= 0.5 \n",
    "        }\n",
    "    }\n",
    "}\n",
    "\n",
    "\n",
    "MyComputer.TurnOn()\n",
    "\n",
    "let myInterval = setInterval(Tick, 1000);\n",
    "\n",
    "\n",
    "\n",
    "\n"
   ]
  },
  {
   "cell_type": "markdown",
   "id": "7927eeac",
   "metadata": {},
   "source": [
    "<img src=\"/images/3_3diagram.png\" alt=\"Diagram showing mathematical operations\" style=\"max-width:300px; margin:10px;\">\n"
   ]
  }
 ],
 "metadata": {
  "kernelspec": {
   "display_name": "venv",
   "language": "python",
   "name": "python3"
  },
  "language_info": {
   "codemirror_mode": {
    "name": "ipython",
    "version": 3
   },
   "file_extension": ".py",
   "mimetype": "text/x-python",
   "name": "python",
   "nbconvert_exporter": "python",
   "pygments_lexer": "ipython3",
   "version": "3.12.3"
  }
 },
 "nbformat": 4,
 "nbformat_minor": 5
}
